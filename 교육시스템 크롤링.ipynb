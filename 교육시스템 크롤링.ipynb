{
 "cells": [
  {
   "cell_type": "code",
   "execution_count": 40,
   "metadata": {},
   "outputs": [
    {
     "name": "stdout",
     "output_type": "stream",
     "text": [
      "정규과목 = 9\n",
      "정규과목 = 189\n",
      "정규과목 = 378\n"
     ]
    }
   ],
   "source": [
    "from selenium import webdriver\n",
    "from selenium.webdriver.common.keys import Keys\n",
    "import time\n",
    "\n",
    "chromedriver = 'C:/dev_python/Webdriver/chromedriver.exe'\n",
    "driver = webdriver.Chrome(chromedriver)\n",
    "\n",
    "driver.get('https://lms.sungshin.ac.kr/ilos/main/member/login_form.acl')\n",
    "\n",
    "#ID\n",
    "elem = driver.find_element_by_name(\"loginId\")\n",
    "elem.clear()\n",
    "elem.send_keys(\"20200785\")\n",
    "\n",
    "#PW\n",
    "elem = driver.find_element_by_name(\"loginPwd\")\n",
    "elem.send_keys(\"fullmoon007!\")\n",
    "elem.send_keys(Keys.RETURN)\n",
    "\n",
    "time.sleep(3)\n",
    "\n",
    "#마이페이지 클릭\n",
    "button = driver.find_element_by_id(\"user_photo\")\n",
    "button.click()\n",
    "\n",
    "#수강과목 클릭\n",
    "button_1 = driver.find_element_by_id(\"menu_mp_register\")\n",
    "button_1.click()\n",
    "\n",
    "#수강과목 리스트(2021-1학기)\n",
    "#subjects = driver.find_element_by_css_selector(\"#lecture_list > div:nth-child(2) > div:nth-child(1)\")\n",
    "#print(subjects.text)\n",
    "\n",
    "#수강과목 리스트(2020-2학기)\n",
    "#subjects = driver.find_element_by_css_selector(\"#lecture_list2\")\n",
    "#print(subjects.text)\n",
    "\n",
    "#이전학기 더보기\n",
    "button_2 = driver.find_element_by_id(\"onceLecture\")\n",
    "button_2.click()\n",
    "\n",
    "#수강과목 리스트 - 1 method\n",
    "#subjects = driver.find_element_by_css_selector(\"#lecture_list\")\n",
    "#print(subjects.get_text())\n",
    "\n",
    "#수강과목 리스트 - 2 method\n",
    "subjects = driver.find_element_by_css_selector(\"#lecture_list\").text\n",
    "#print(subjects)\n",
    "\n",
    "#비정규과목 제외한 수강과목 리스트\n",
    "non_s = subjects.find(\"비정규과목\")\n",
    "subjects_r = subjects[:non_s]\n",
    "#print(subjects_r)\n",
    "\n",
    "num_s = subjects.count(\"정규과목\")\n",
    "#print(num_s)\n",
    "#subjects.replace(\"\\n\",\" \")\n",
    "\n",
    "#정규과목 위치 찾기\n",
    "target = '정규과목'\n",
    "index = -1\n",
    "while True:\n",
    "    index = subjects_r.find(target, index + 1)\n",
    "    if index == -1:\n",
    "        break\n",
    "    print('정규과목 =',index)\n",
    "    #print('정규과목=%d' % index)\n",
    "\n",
    "subjects_r[:138]\n",
    "\n",
    "subjects_r.split()\n",
    "\n",
    "\n",
    "\n",
    " - 이전학기 더보기 오류 해결\n",
    " - 비 정규 과목은 제외(ㅇ)\n",
    " - 과목 수강 정보 딕셔너리 형태로\n"
   ]
  },
  {
   "cell_type": "code",
   "execution_count": null,
   "metadata": {},
   "outputs": [],
   "source": []
  }
 ],
 "metadata": {
  "kernelspec": {
   "display_name": "Python 3",
   "language": "python",
   "name": "python3"
  },
  "language_info": {
   "codemirror_mode": {
    "name": "ipython",
    "version": 3
   },
   "file_extension": ".py",
   "mimetype": "text/x-python",
   "name": "python",
   "nbconvert_exporter": "python",
   "pygments_lexer": "ipython3",
   "version": "3.8.5"
  }
 },
 "nbformat": 4,
 "nbformat_minor": 4
}
