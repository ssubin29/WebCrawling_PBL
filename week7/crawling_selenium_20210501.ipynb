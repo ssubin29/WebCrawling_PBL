{
 "cells": [
  {
   "cell_type": "markdown",
   "metadata": {
    "collapsed": true
   },
   "source": [
    "## Selenium & Headless Chrome를 활용한 크롤링 이해 및 실습\n",
    " - 브라우저를 제어해서 크롤링을 하는 방법\n",
    "\n",
    "### 1. Selenium \n",
    "   - Selenium: 웹을 테스트하기 위한 프레임워크\n",
    "   - 공식 홈페이지(http://www.seleniumhq.org/)\n",
    "   - Selenium with Python : http://selenium-python.readthedocs.io/index.html\n",
    "   "
   ]
  },
  {
   "cell_type": "markdown",
   "metadata": {},
   "source": [
    "<div class=\"alert alert-block alert-success\">\n",
    "<strong><font color=\"blue\" size=\"4em\">사전준비 (Selenium 설치)</font></strong><br>\n",
    " 1. Selenium 인스톨: pip install selenium<br>\n",
    " 2. 웹드라이버 인스톨: 웹 테스트 자동화를 위해 제공되는 툴(각 browser및 os 별로 존재)<br>\n",
    " - selenium - 테스트 코드를 사용하여 브라우져에서의 액션을 테스트할 수 있게 해주는 툴<br>\n",
    " - Firefox, chromedriver 등 각 브라우져마다 웹드라이버 다운로드 가능<br>\n",
    "     + https://sites.google.com/a/chromium.org/chromedriver/  (Chrome 브라우저용)<br>\n",
    "     + https://github.com/mozilla/geckodriver/releases  (Firefox 브라우저용)<br>\n",
    " <br>\n",
    " 확인: 설치 디렉토리를 알아두어야 함\n",
    "</div>"
   ]
  },
  {
   "cell_type": "code",
   "execution_count": null,
   "metadata": {},
   "outputs": [],
   "source": [
    "from selenium import webdriver\n",
    "from selenium.webdriver.common.keys import Keys\n",
    "import time\n",
    "\n",
    "# 드라이버 생성\n",
    "# chromedriver 설치된 경로를 정확히 기재해야 함\n",
    "# chromedriver = 'C:/dev_python/Webdriver/chromedriver.exe' # 윈도우 \n",
    "chromedriver = '/usr/local/Cellar/chromedriver/chromedriver' # 맥\n",
    "driver = webdriver.Chrome(chromedriver)\n",
    "\n",
    "# 크롤링할 사이트 호출\n",
    "driver.get(\"http://www.python.org\")\n",
    "\n",
    "# Selenium은 웹테스트를 위한 프레임워크로 다음과 같은 방식으로 웹테스트를 자동으로 진행함 (참고)\n",
    "assert \"Python\" in driver.title\n",
    "time.sleep(5)\n",
    "\n",
    "# <input id=\"id-search-field\" name=\"q\" 검색창 name으로 검색하기\n",
    "# 태그 name으로 특정한 태그를 찾을 수 있음\n",
    "elem = driver.find_element_by_name(\"q\")\n",
    "\n",
    "# input 텍스트 초기화 \n",
    "# elem.clear()\n",
    "\n",
    "# 키 이벤트 전송가능함\n",
    "# 태그가 input 태그이므로 입력창에 키이벤트가 전달되면, 입력값이 자동으로 작성됨\n",
    "elem.send_keys(\"pycon\")\n",
    "\n",
    "# 태그가 input 태그이므로 엔터 입력시 form action이 진행됨\n",
    "elem.send_keys(Keys.RETURN)\n",
    "\n",
    "# Selenium은 웹테스트를 위한 프레임워크로 다음과 같은 방식으로 웹테스트를 자동으로 진행함 (참고)\n",
    "assert \"No results found.\" not in driver.page_source\n",
    "\n",
    "# 명시적으로 일정시간을 기다릴 수 있음 (10초 기다림)\n",
    "time.sleep(10)\n",
    "\n",
    "# 크롬 브라우저 닫기 가능함\n",
    "driver.quit()"
   ]
  },
  {
   "cell_type": "markdown",
   "metadata": {},
   "source": [
    "### 2. PhantomJS (참고, 2021년 현재는 더이상 유지보수를 지원하지 않음)\n",
    " - WebTesting을 위해 나온 화면이 존재하지 않는 브라우저\n",
    " - 터미널환경에서 동작하는 크롤러의 경우 PhantomJS 브라우저 사용 권장\n",
    " \n",
    "> 크롬에서 PhantomJS 의 기능을 직접 지원해줌에 따라, PhantomJS 는 더이상 관련 기능을 유지보수하는 것이 의미가 없다라고 생각하여, 이제는 PhantomJS 를 지원하지 않겠다고 하였으므로, 이제부터는 Selenium 또는 다음에 나오는 Headless Chrome 을 쓰시면 됩니다"
   ]
  },
  {
   "cell_type": "markdown",
   "metadata": {},
   "source": [
    "<div class=\"alert alert-block alert-success\">\n",
    "<strong><font color=\"blue\" size=\"4em\">사전준비 (PhantomJS 설치)</font></strong><br>\n",
    " 1. 윈도우: PhantomJS 다운로드 후 절적한 디렉토리에 압축을 품 (http://phantomjs.org/download.html)<br>\n",
    " 2. 맥: brew install phantomjs 또는 윈도우에서 사용한 웹사이트를 활용<br>\n",
    " 3. 리눅스: suto apt-get install phantomjs (한글폰트가 없다면, 추가로 sudo apt-get install -y fonts-nanum* )<br>\n",
    " <br>\n",
    " 확인: 설치 디렉토리를 알아둬야 함\n",
    "</div>"
   ]
  },
  {
   "cell_type": "markdown",
   "metadata": {},
   "source": [
    " <strong><font color=\"blue\" size=\"4em\">확인 사항</font></strong>\n",
    " <br><br>\n",
    " \n",
    " <font color=\"red\">\n",
    " 다음 코드부터는 Selenium을 사용할지, PhantomJS를 사용할지를 정해서<br>\n",
    " 드라이버를 생성하는 코드를 자신의 로컬 환경에 맞게 넣어주신 후에<br>\n",
    " 실행을 하셔야 합니다.\n",
    " </font>\n",
    " "
   ]
  },
  {
   "cell_type": "code",
   "execution_count": 1,
   "metadata": {},
   "outputs": [
    {
     "name": "stderr",
     "output_type": "stream",
     "text": [
      "/anaconda3/lib/python3.7/site-packages/selenium/webdriver/phantomjs/webdriver.py:49: UserWarning: Selenium support for PhantomJS has been deprecated, please use headless versions of Chrome or Firefox instead\n",
      "  warnings.warn('Selenium support for PhantomJS has been deprecated, please use headless '\n"
     ]
    },
    {
     "name": "stdout",
     "output_type": "stream",
     "text": [
      "https://www.python.org/\n",
      "Welcome to Python.org\n"
     ]
    }
   ],
   "source": [
    "from selenium import webdriver\n",
    "from selenium.webdriver.common.keys import Keys\n",
    "\n",
    "# 드라이버 생성 방법1 (selenium)\n",
    "# chromedriver = 'C:/dev_python/Webdriver/chromedriver.exe' # 윈도우 \n",
    "# chromedriver = '/usr/local/Cellar/chromedriver/chromedriver' # 맥\n",
    "# driver = webdriver.Chrome(chromedriver)\n",
    "\n",
    "# 드라이버 생성 방법2 (phantomJS)\n",
    "# driver = webdriver.PhantomJS('C:/dev_python/phantomjs-2.1.1-windows/bin/phantomjs.exe') # 윈도우\n",
    "driver = webdriver.PhantomJS('/usr/local/Cellar/phantomjs/2.1.1/bin/phantomjs') # 맥\n",
    "\n",
    "driver.get(\"http://www.python.org\")\n",
    "\n",
    "print (driver.current_url)\n",
    "print (driver.title)\n",
    "\n",
    "elem = driver.find_element_by_name(\"q\")\n",
    "\n",
    "# input 텍스트 초기화 \n",
    "elem.clear()\n",
    "\n",
    "# 키 이벤트 전송\n",
    "elem.send_keys(\"python\")\n",
    "\n",
    "# 엔터 입력\n",
    "elem.send_keys(Keys.RETURN)\n",
    "\n",
    "# 스크린샷도 찍을 수 있습니다.\n",
    "driver.set_window_size(1400, 1000)\n",
    "elem.screenshot(\"pycon_event.png\")\n",
    "assert \"No results found.\" not in driver.page_source\n",
    "\n",
    "driver.quit()"
   ]
  },
  {
   "cell_type": "markdown",
   "metadata": {},
   "source": [
    "## 3. Headless Chrome\n",
    "- Chrome 브라우저는 크롬 59 버전 이상부터 지원하며, PhantomJS 와 동일하게, 브라우저를 띄우지 않고, 크롤링을 할 수 있는 프로그램\n",
    "\n",
    "> 크롬에서 본 기능을 직접 지원해줌에 따라, PhantomJS 는 더이상 관련 기능을 유지보수하는 것이 의미가 없다라고 생각하여, 이제는 PhantomJS 를 지원하지 않겠다고 하였으므로, 이제부터는 Selenium 또는 Headless Chrome 을 쓰시면 됩니다"
   ]
  },
  {
   "cell_type": "code",
   "execution_count": null,
   "metadata": {},
   "outputs": [],
   "source": [
    "from selenium import webdriver\n",
    "\n",
    "options = webdriver.ChromeOptions()\n",
    "options.add_argument('headless')\n",
    "options.add_argument('window-size=1920x1080')\n",
    "options.add_argument(\"disable-gpu\")\n",
    "options.add_argument(\"User-Agent:  Mozilla/5.0 (Macintosh; Intel Mac OS X 10_14_4) AppleWebKit/537.36 (KHTML, like Gecko) Chrome/74.0.3729.131 Safari/537.36\")\n",
    "options.add_argument(\"lang=ko_KR\")\n",
    "chromedriver = '/usr/local/Cellar/chromedriver/chromedriver' # 맥\n",
    "driver = webdriver.Chrome(chromedriver, chrome_options=options)\n",
    "driver.get('http://v.media.daum.net/v/20170202185812986')\n",
    "\n",
    "body = driver.find_element_by_id('harmonyContainer')\n",
    "print (body.text)\n",
    "    \n",
    "driver.quit()"
   ]
  },
  {
   "cell_type": "markdown",
   "metadata": {},
   "source": [
    "### User Agent 확인 - Headless Chrome"
   ]
  },
  {
   "cell_type": "code",
   "execution_count": null,
   "metadata": {},
   "outputs": [],
   "source": [
    "from selenium import webdriver\n",
    "\n",
    "options = webdriver.ChromeOptions()\n",
    "options.add_argument('headless')\n",
    "options.add_argument('window-size=1920x1080')\n",
    "options.add_argument(\"disable-gpu\")\n",
    "options.add_argument(\"User-Agent:  Mozilla/5.0 (Macintosh; Intel Mac OS X 10_14_4) AppleWebKit/537.36 (KHTML, like Gecko) Chrome/74.0.3729.131 Safari/537.36\")\n",
    "options.add_argument(\"lang=ko_KR\")\n",
    "chromedriver = '/usr/local/Cellar/chromedriver/chromedriver' # 맥\n",
    "driver = webdriver.Chrome(chromedriver, chrome_options=options)\n",
    "driver.get('https://intoli.com/blog/making-chrome-headless-undetectable/chrome-headless-test.html')\n",
    "\n",
    "user_agent = driver.find_element_by_css_selector('#user-agent').text\n",
    "\n",
    "print('User-Agent: ', user_agent)\n",
    "\n",
    "driver.quit()\n"
   ]
  },
  {
   "cell_type": "markdown",
   "metadata": {},
   "source": [
    "### User Agent 확인 - Selenium "
   ]
  },
  {
   "cell_type": "code",
   "execution_count": null,
   "metadata": {},
   "outputs": [],
   "source": [
    "from selenium import webdriver\n",
    "\n",
    "chromedriver = '/usr/local/Cellar/chromedriver/chromedriver' # 맥\n",
    "driver = webdriver.Chrome(chromedriver)\n",
    "driver.get('https://intoli.com/blog/making-chrome-headless-undetectable/chrome-headless-test.html')\n",
    "\n",
    "user_agent = driver.find_element_by_css_selector('#user-agent').text\n",
    "\n",
    "print('User-Agent: ', user_agent)\n",
    "\n",
    "driver.quit()\n"
   ]
  }
 ],
 "metadata": {
  "kernelspec": {
   "display_name": "Python 3",
   "language": "python",
   "name": "python3"
  },
  "language_info": {
   "codemirror_mode": {
    "name": "ipython",
    "version": 3
   },
   "file_extension": ".py",
   "mimetype": "text/x-python",
   "name": "python",
   "nbconvert_exporter": "python",
   "pygments_lexer": "ipython3",
   "version": "3.8.5"
  }
 },
 "nbformat": 4,
 "nbformat_minor": 2
}
