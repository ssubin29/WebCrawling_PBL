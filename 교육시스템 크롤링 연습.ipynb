{
 "cells": [
  {
   "cell_type": "code",
   "execution_count": null,
   "metadata": {},
   "outputs": [],
   "source": [
    "from selenium import webdriver\n",
    "from selenium.webdriver.common.keys import Keys\n",
    "import time\n",
    "\n",
    "chromedriver = 'C:/dev_python/Webdriver/chromedriver.exe'\n",
    "driver = webdriver.Chrome(chromedriver)\n",
    "\n",
    "driver.get('https://lms.sungshin.ac.kr/ilos/main/member/login_form.acl')\n",
    "\n",
    "#ID\n",
    "elem = driver.find_element_by_name(\"loginId\")\n",
    "elem.clear()\n",
    "elem.send_keys(\"\")\n",
    "\n",
    "#PW\n",
    "elem = driver.find_element_by_name(\"loginPwd\")\n",
    "elem.send_keys(\"\")\n",
    "elem.send_keys(Keys.RETURN)\n",
    "\n",
    "time.sleep(3)\n",
    "\n",
    "#마이페이지 클릭\n",
    "button = driver.find_element_by_id(\"user_photo\")\n",
    "button.click()\n",
    "\n",
    "#수강과목 클릭\n",
    "button_1 = driver.find_element_by_id(\"menu_mp_register\")\n",
    "button_1.click()\n",
    "\n",
    "\n",
    "#이전학기 더보기\n",
    "button_2 = driver.find_element_by_id(\"onceLecture\")\n",
    "button_2.click()\n",
    "\n",
    "#수강과목 리스트(2020-1학기)\n",
    "subjects = driver.find_element_by_css_selector(\"#lecture_list\")\n",
    "print(subjects.text)"
   ]
  }
 ],
 "metadata": {
  "kernelspec": {
   "display_name": "Python 3",
   "language": "python",
   "name": "python3"
  },
  "language_info": {
   "codemirror_mode": {
    "name": "ipython",
    "version": 3
   },
   "file_extension": ".py",
   "mimetype": "text/x-python",
   "name": "python",
   "nbconvert_exporter": "python",
   "pygments_lexer": "ipython3",
   "version": "3.8.5"
  }
 },
 "nbformat": 4,
 "nbformat_minor": 4
}
