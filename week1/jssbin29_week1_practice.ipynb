{
 "cells": [
  {
   "cell_type": "markdown",
   "metadata": {},
   "source": [
    "# Python with jupyter notebook"
   ]
  },
  {
   "cell_type": "markdown",
   "metadata": {},
   "source": [
    "## Markdown practice"
   ]
  },
  {
   "cell_type": "markdown",
   "metadata": {},
   "source": [
    "# #이 붙을수록 글자가 커짐\n",
    "\n",
    "\n",
    "```python\n",
    "s = \"Python syntax highlighting\"\n",
    "print s\n",
    "def add(a, b):\n",
    "    return a + b\n",
    "```\n",
    "\n",
    ">  >는 인용\n",
    "> This line is part of the same quote.\n",
    "\n",
    "> Good\n",
    " \n",
    "# 가장 큰 글씨\n",
    " - 리스트1\n",
    " - 리스트2\n",
    " - 리스트3\n",
    "     - 1번\n",
    "     - 2번\n",
    "\n",
    "\n",
    "\n",
    "[LMS webpage](https://lms.sungshin.ac.kr/ilos/main/main_form.acl)\n"
   ]
  },
  {
   "cell_type": "markdown",
   "metadata": {},
   "source": [
    "###자료형 다루기"
   ]
  },
  {
   "cell_type": "code",
   "execution_count": 23,
   "metadata": {},
   "outputs": [
    {
     "name": "stdout",
     "output_type": "stream",
     "text": [
      "<class 'int'> <class 'float'> <class 'str'> <class 'str'> <class 'bool'>\n",
      "<class 'float'> 10\n"
     ]
    }
   ],
   "source": [
    "a=10\n",
    "b=1.1\n",
    "c=\"Hello\"\n",
    "d='z'\n",
    "e=False\n",
    "print(type(a), type(b), type(c), type(d),type(e))\n",
    "print(type(float(a)), a)"
   ]
  },
  {
   "cell_type": "code",
   "execution_count": 25,
   "metadata": {},
   "outputs": [
    {
     "name": "stdout",
     "output_type": "stream",
     "text": [
      "33.333333333333336\n"
     ]
    }
   ],
   "source": [
    "a=3\n",
    "b=100\n",
    "print(b/a)"
   ]
  },
  {
   "cell_type": "code",
   "execution_count": 27,
   "metadata": {},
   "outputs": [
    {
     "name": "stdout",
     "output_type": "stream",
     "text": [
      "What is your name?Soobin\n",
      "Soobin\n"
     ]
    }
   ],
   "source": [
    "name=input(\"What is your name?\")\n",
    "print(name)"
   ]
  },
  {
   "cell_type": "markdown",
   "metadata": {},
   "source": [
    "###문자열 다루기"
   ]
  },
  {
   "cell_type": "code",
   "execution_count": 14,
   "metadata": {},
   "outputs": [
    {
     "name": "stdout",
     "output_type": "stream",
     "text": [
      "11\n",
      "17\n",
      "2\n",
      "My name is Subin\n",
      "name is Subin\n",
      "My name is\n",
      "My name is Subin\n"
     ]
    }
   ],
   "source": [
    "a=\"My name is Soobin\"\n",
    "print(a.find(\"Soobin\"))\n",
    "print(len(a))\n",
    "print(a.count('n'))\n",
    "a=a.replace(\"Soobin\",\"Subin\")\n",
    "print(a)\n",
    "print(a[3:])\n",
    "print(a[:10])"
   ]
  },
  {
   "cell_type": "code",
   "execution_count": 20,
   "metadata": {},
   "outputs": [
    {
     "name": "stdout",
     "output_type": "stream",
     "text": [
      "HELLO\n",
      "Mynameis Hello\n"
     ]
    }
   ],
   "source": [
    "b=\"         HELLO      \"\n",
    "print(b.strip())\n",
    "a =\"Mynameis Hello..........\"\n",
    "print(a.strip('.'))"
   ]
  },
  {
   "cell_type": "markdown",
   "metadata": {},
   "source": [
    "###데이터구조 다루기"
   ]
  },
  {
   "cell_type": "code",
   "execution_count": null,
   "metadata": {},
   "outputs": [],
   "source": [
    "#데이터구조 1. 리스트 :추가삭제수정 전부 가능 []로 표현"
   ]
  },
  {
   "cell_type": "code",
   "execution_count": 66,
   "metadata": {},
   "outputs": [
    {
     "name": "stdout",
     "output_type": "stream",
     "text": [
      "[8, 2, 3, 4, 5] <class 'list'>\n",
      "[2, 3, 4, 5, 8]\n",
      "[8, 5, 4, 3, 2]\n",
      "['Hello', 'My', 'Name']\n"
     ]
    }
   ],
   "source": [
    "lista=[]\n",
    "#데이터 추가\n",
    "lista.append(256)\n",
    "lista.insert(0,\"g\")\n",
    "#데이터 변경\n",
    "lista[0]=234\n",
    "#데이터 삭제\n",
    "lista.remove(234)\n",
    "del lista[0]\n",
    "a= [8,2,3,4,5]\n",
    "print(a, type(a))\n",
    "a.sort();print(a);\n",
    "a.reverse();print(a);\n",
    "article=\"Hello My Name\"\n",
    "article=article.split()\n",
    "print(article)"
   ]
  },
  {
   "cell_type": "code",
   "execution_count": 65,
   "metadata": {},
   "outputs": [],
   "source": [
    "#데이터구조 2. 튜플 : 추가삭제수정 전부 불가능 ()로 표현"
   ]
  },
  {
   "cell_type": "code",
   "execution_count": 60,
   "metadata": {},
   "outputs": [
    {
     "name": "stdout",
     "output_type": "stream",
     "text": [
      "(1, 2, 3) <class 'tuple'>\n",
      "(1, 2, 3, 4, 5, 6)\n",
      "(1, 2, 3, 1, 2, 3, 1, 2, 3)\n",
      "[1, 2, 3]\n",
      "(8, 5, 4, 3, 2)\n"
     ]
    }
   ],
   "source": [
    "tu = (1,2,3)\n",
    "print(tu, type(tu))\n",
    "tu2 = (4,5,6)\n",
    "print(tu+tu2) #더하거나\n",
    "print(tu * 3) #반복은 가능\n",
    "print(list(tu))\n",
    "print(tuple(a))\n",
    "#리스트에서 튜플로 튜플에서 리스트로 변환가능"
   ]
  },
  {
   "cell_type": "code",
   "execution_count": 71,
   "metadata": {},
   "outputs": [
    {
     "name": "stdout",
     "output_type": "stream",
     "text": [
      "3 2\n",
      "2 3\n"
     ]
    }
   ],
   "source": [
    "x=3\n",
    "y=2\n",
    "print(x,y)\n",
    "x,y=y,x\n",
    "print(x,y)"
   ]
  },
  {
   "cell_type": "code",
   "execution_count": 51,
   "metadata": {},
   "outputs": [],
   "source": [
    "#데이터구조 3. 딕셔너리(dict) key:value 형태 삭제추가수정 가능 {}로 표현"
   ]
  },
  {
   "cell_type": "code",
   "execution_count": 78,
   "metadata": {},
   "outputs": [
    {
     "name": "stdout",
     "output_type": "stream",
     "text": [
      "{'Jannie': 234, 'Amy': 342, 'Minsu': 323}\n",
      "dict_keys(['Jannie', 'Amy', 'Minsu'])\n",
      "dict_values([234, 342, 323])\n"
     ]
    }
   ],
   "source": [
    "score_dict = {\"Jannie\":234,\"Jack\":34,\"Amy\":342}\n",
    "score_dict[\"Minsu\"]=300\n",
    "score_dict[\"Minsu\"]=323\n",
    "del score_dict[\"Jack\"]\n",
    "print(score_dict)\n",
    "print(score_dict.keys())\n",
    "print(score_dict.values())"
   ]
  },
  {
   "cell_type": "code",
   "execution_count": null,
   "metadata": {},
   "outputs": [],
   "source": [
    "#데이터구조 4. 집합(set)"
   ]
  },
  {
   "cell_type": "code",
   "execution_count": 79,
   "metadata": {},
   "outputs": [
    {
     "name": "stdout",
     "output_type": "stream",
     "text": [
      "<class 'list'>\n",
      "<class 'tuple'>\n",
      "<class 'dict'>\n",
      "<class 'set'>\n"
     ]
    }
   ],
   "source": [
    "#+각 데이터형 초기화 방법\n",
    "data1 = list(); print(type(data1));\n",
    "data2 = tuple(); print(type(data2));\n",
    "data3 = dict(); print(type(data3));\n",
    "data4=set(); print(type(data4));"
   ]
  },
  {
   "cell_type": "code",
   "execution_count": 84,
   "metadata": {},
   "outputs": [
    {
     "name": "stdout",
     "output_type": "stream",
     "text": [
      "<class 'set'> <class 'set'>\n",
      "{4, 5}\n",
      "{1, 2, 3}\n",
      "{1, 2, 3, 4, 5}\n",
      "{1, 2}\n"
     ]
    }
   ],
   "source": [
    "set1 = { 1, 2, 4, 5}\n",
    "set2 ={3 , 4, 5}\n",
    "print(type(set1),type(set2))\n",
    "print(set1 & set2)\n",
    "print(set1 ^ set2)\n",
    "print(set1 | set2)\n",
    "print(set1 - set2)"
   ]
  },
  {
   "cell_type": "code",
   "execution_count": null,
   "metadata": {},
   "outputs": [],
   "source": []
  }
 ],
 "metadata": {
  "kernelspec": {
   "display_name": "Python 3",
   "language": "python",
   "name": "python3"
  },
  "language_info": {
   "codemirror_mode": {
    "name": "ipython",
    "version": 3
   },
   "file_extension": ".py",
   "mimetype": "text/x-python",
   "name": "python",
   "nbconvert_exporter": "python",
   "pygments_lexer": "ipython3",
   "version": "3.8.5"
  }
 },
 "nbformat": 4,
 "nbformat_minor": 1
}
