{
 "cells": [
  {
   "cell_type": "markdown",
   "metadata": {},
   "source": [
    "# Python with jupyter notebook"
   ]
  },
  {
   "cell_type": "markdown",
   "metadata": {},
   "source": [
    "## Markdown practice"
   ]
  },
  {
   "cell_type": "markdown",
   "metadata": {},
   "source": [
    "# #이 붙을수록 글자가 커짐\n",
    "\n",
    "\n",
    "```python\n",
    "s = \"Python syntax highlighting\"\n",
    "print s\n",
    "def add(a, b):\n",
    "    return a + b\n",
    "```\n",
    "\n",
    ">  >는 인용\n",
    "> This line is part of the same quote.\n",
    "\n",
    "> Good\n",
    " \n",
    "# 가장 큰 글씨\n",
    " - 리스트1\n",
    " - 리스트2\n",
    " - 리스트3\n",
    "     - 1번\n",
    "     - 2번\n",
    "\n",
    "\n",
    "\n",
    "[LMS webpage](https://lms.sungshin.ac.kr/ilos/main/main_form.acl)\n"
   ]
  },
  {
   "cell_type": "markdown",
   "metadata": {},
   "source": [
    "###자료형 다루기"
   ]
  },
  {
   "cell_type": "code",
   "execution_count": 23,
   "metadata": {},
   "outputs": [
    {
     "name": "stdout",
     "output_type": "stream",
     "text": [
      "<class 'int'> <class 'float'> <class 'str'> <class 'str'> <class 'bool'>\n",
      "<class 'float'> 10\n"
     ]
    }
   ],
   "source": [
    "a=10\n",
    "b=1.1\n",
    "c=\"Hello\"\n",
    "d='z'\n",
    "e=False\n",
    "print(type(a), type(b), type(c), type(d),type(e))\n",
    "print(type(float(a)), a)"
   ]
  },
  {
   "cell_type": "code",
   "execution_count": 25,
   "metadata": {},
   "outputs": [
    {
     "name": "stdout",
     "output_type": "stream",
     "text": [
      "33.333333333333336\n"
     ]
    }
   ],
   "source": [
    "a=3\n",
    "b=100\n",
    "print(b/a)"
   ]
  },
  {
   "cell_type": "code",
   "execution_count": 27,
   "metadata": {},
   "outputs": [
    {
     "name": "stdout",
     "output_type": "stream",
     "text": [
      "What is your name?Soobin\n",
      "Soobin\n"
     ]
    }
   ],
   "source": [
    "name=input(\"What is your name?\")\n",
    "print(name)"
   ]
  },
  {
   "cell_type": "markdown",
   "metadata": {},
   "source": [
    "###문자열 다루기"
   ]
  },
  {
   "cell_type": "code",
   "execution_count": 14,
   "metadata": {},
   "outputs": [
    {
     "name": "stdout",
     "output_type": "stream",
     "text": [
      "11\n",
      "17\n",
      "2\n",
      "My name is Subin\n",
      "name is Subin\n",
      "My name is\n",
      "My name is Subin\n"
     ]
    }
   ],
   "source": [
    "a=\"My name is Soobin\"\n",
    "print(a.find(\"Soobin\"))\n",
    "print(len(a))\n",
    "print(a.count('n'))\n",
    "a=a.replace(\"Soobin\",\"Subin\")\n",
    "print(a)\n",
    "print(a[3:])\n",
    "print(a[:10])"
   ]
  },
  {
   "cell_type": "code",
   "execution_count": 20,
   "metadata": {},
   "outputs": [
    {
     "name": "stdout",
     "output_type": "stream",
     "text": [
      "HELLO\n",
      "Mynameis Hello\n"
     ]
    }
   ],
   "source": [
    "b=\"         HELLO      \"\n",
    "print(b.strip())\n",
    "a =\"Mynameis Hello..........\"\n",
    "print(a.strip('.'))"
   ]
  },
  {
   "cell_type": "code",
   "execution_count": null,
   "metadata": {},
   "outputs": [],
   "source": []
  }
 ],
 "metadata": {
  "kernelspec": {
   "display_name": "Python 3",
   "language": "python",
   "name": "python3"
  },
  "language_info": {
   "codemirror_mode": {
    "name": "ipython",
    "version": 3
   },
   "file_extension": ".py",
   "mimetype": "text/x-python",
   "name": "python",
   "nbconvert_exporter": "python",
   "pygments_lexer": "ipython3",
   "version": "3.8.5"
  }
 },
 "nbformat": 4,
 "nbformat_minor": 1
}
