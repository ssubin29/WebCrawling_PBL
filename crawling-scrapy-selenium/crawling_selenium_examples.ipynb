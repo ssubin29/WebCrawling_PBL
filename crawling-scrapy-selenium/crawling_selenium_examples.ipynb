{
 "cells": [
  {
   "cell_type": "markdown",
   "metadata": {},
   "source": [
    "### 파이썬 웹페이지 검색 결과 크롤링"
   ]
  },
  {
   "cell_type": "code",
   "execution_count": 24,
   "metadata": {},
   "outputs": [
    {
     "name": "stdout",
     "output_type": "stream",
     "text": [
      "Welcome to Python.org\n",
      "https://www.python.org/\n",
      "Download Python for Other Platforms\n",
      "Python Documentation by Version\n",
      "Python 2.5.3\n",
      "Python 2.5.4 Release\n",
      "Python 2.5.4\n",
      "Python 2.5.3 Release\n",
      "Python 2.5 Release\n",
      "Python 2.5.2 Release\n",
      "Python 2.5.1 Release\n",
      "Python 3.1.4\n",
      "Python 2.5.0\n",
      "Python 2.5.2\n",
      "Python 3.1.4 Release\n",
      "Python 3.1.3 Release\n",
      "Python 2.5.1\n",
      "Python 3.2.1 Release\n",
      "Python 2.7.9rc1\n",
      "Python 3.0 Release\n",
      "Python 3.2.5 Release\n",
      "Python 3.2.0\n"
     ]
    }
   ],
   "source": [
    "from selenium import webdriver\n",
    "from selenium.webdriver.common.keys import Keys\n",
    "import time\n",
    "\n",
    "chromedriver = '/usr/local/Cellar/chromedriver/chromedriver'\n",
    "driver = webdriver.Chrome(chromedriver)\n",
    "\n",
    "driver.get('http://www.python.org')\n",
    "print (driver.title)\n",
    "print (driver.current_url)\n",
    "\n",
    "assert \"Python\" in driver.title\n",
    "\n",
    "search = driver.find_element_by_id(\"id-search-field\")\n",
    "search.clear()\n",
    "search.send_keys(\"python\")\n",
    "search.send_keys(Keys.RETURN)\n",
    "\n",
    "time.sleep(2)\n",
    "\n",
    "assert \"No results found.\" not in driver.page_source\n",
    "\n",
    "data = driver.find_elements_by_css_selector(\"#content > div > section > form > ul > li > h3 > a\") \n",
    "for item in data:\n",
    "    print (item.text)\n",
    "driver.quit()"
   ]
  },
  {
   "cell_type": "markdown",
   "metadata": {},
   "source": [
    "### 다음 뉴스 기사 크롤링하기"
   ]
  },
  {
   "cell_type": "code",
   "execution_count": null,
   "metadata": {},
   "outputs": [],
   "source": [
    "from selenium import webdriver\n",
    "\n",
    "options = webdriver.ChromeOptions()\n",
    "options.add_argument('headless')\n",
    "options.add_argument('window-size=1920x1080')\n",
    "options.add_argument(\"disable-gpu\")\n",
    "options.add_argument(\"User-Agent:  Mozilla/5.0 (Macintosh; Intel Mac OS X 10_14_4) AppleWebKit/537.36 (KHTML, like Gecko) Chrome/74.0.3729.131 Safari/537.36\")\n",
    "options.add_argument(\"lang=ko_KR\")\n",
    "\n",
    "chromedriver = '/usr/local/Cellar/chromedriver/chromedriver' # 맥\n",
    "driver = webdriver.Chrome(chromedriver, options=options)\n",
    "driver.get('http://v.media.daum.net/v/20170202185812986')\n",
    "\n",
    "body = driver.find_element_by_id('harmonyContainer')\n",
    "print (body.text)    \n",
    "driver.quit()"
   ]
  },
  {
   "cell_type": "markdown",
   "metadata": {},
   "source": [
    "### 다음 뉴스 기사 댓글 크롤링하기\n",
    "\n",
    "- 2020.10.06 변경 사항\n",
    "  - 실전 사이트로 크롤링을 하고, 많은 분들께서 수강하시다보니, 다음측에서 댓글 크롤링을 제한한 듯 합니다.\n",
    "  - 다음 사이트에서 이제부터는 댓글 더보기 버튼을 한번만 누를 수 있고, 전체 댓글을 볼 수 있는 메뉴 자체는 삭제하였습니다.\n",
    "  - 더보기 버튼 태그도 일부 변경하여, 기존 코드로는 크롤링이 안되도록 변경하였습니다.\n",
    "  - 다만, 더보기 버튼을 한번 누르고 댓글을 가져오는 기능은 가능하므로, 동적 크롤링 기술이 정상동작함은 기존과 같이 변경된 코드로 확인은 가능합니다. \n",
    "    - 최대 댓글 20개까지 가져올 수 있고, 이후 댓글은 다음 사이트 자체에서도 제공하지 않습니다.\n",
    "  - 코드 변경 사항: 태그가 '#alex-area > div > div > div > div.cmt_box > div.alex_more > a' 에서 '#alex-area > div > div > div > div.cmt_box > div.alex_more > button' 으로 변경되었습니다.\n",
    "\n",
    "    "
   ]
  },
  {
   "cell_type": "code",
   "execution_count": 5,
   "metadata": {},
   "outputs": [
    {
     "name": "stdout",
     "output_type": "stream",
     "text": [
      "[1] 징역6년이 뭐여? 30년은 되야지.저런 놈은 인생이 쫑나야 한다.\n",
      "[2] 그 부모에 그 자식\n",
      "[3] 자식 죽은 부모앞에서.. \n",
      "사과했다고 화내는 가해자부모..\n",
      "도대체 누굴 위해 사과를 한거냐..\n",
      "[4] 사과를 제대로 하지도 않고 사과했다고 우기는 꼴... 아베랑 똑같구만.\n",
      "[5] 저딴 부모니까 자식이 술 쳐 마시고 운전해서 사람 죽이는 개차반이 됐겠지.\n",
      "[6] 징역6년?   장난칩니까 판사나으리~~  당신가족이라면  사람죽인놈을   겨우 징역6에 쳐하겠나요?\n",
      "[7] 정말 아들을 사랑한다면, 정말 걱정한다면 제대로 법적 처벌 받게 하세요. 그게 아들을 위한 길입니다.  병원 찾아갔다고요?찾아갔는데 빰 안맞았으면 그건 엄청 대단한 일입니다. 불난집에 부채질 마시고 아들이 제대로 법의 심판받도록 하세요!!!\n",
      "[8] 사과했으니까 봐달라는  심보도 웃기지않나?\n",
      "사람이 죽었는데 그딴 마음가짐으로 사과를하다니..\n",
      "죗값 달게 받겠다고 하고 사과는 사과대로 해야지\n",
      "[9] 아들이  어떤  술처먹은   놈이   모는    차량에  치여   죽었는데     어떤  엄마가   가만히   있겠어요\n",
      "[10] 나도 여자지만 술처먹은놈과  딴짓한년도  죄 물어야 한다..\n",
      "[11] 어떤 판사 선생님이 음주 사망 사고에 6년을 때리는 거냐? 같이 운전하다가 한쪽이 사망한것도 아닌데....\n",
      "직접 흉기로 죽이면 30년이고 술먹고 음주로 죽이면 6년이니?\n",
      "[12] 살인에 대한 관용은 없어야 합니다.\n",
      "음주운전은 살인 행위입니다.\n",
      "관용을 배풀면 다응 피해자는 누가 될지 모릅니다.\n",
      "[13] 판사가 판사가 아니구나\n",
      "사람을 죽였는데 기껏 6년이라니\n",
      "경악스럽다\n",
      "최소 30년을  때려도 부족하다.\n",
      "부모 태도가 불량해도 너무 불량하네\n",
      "[14] 진정 반성한다면 사과를 몰라줘도 할말 없어야지\n",
      "난 사과했는데 왜 당신은 그걸 몰라줘 \n",
      "이게 자식 잃은 부모에게 할소리냐\n",
      "인성은 유전이라더니 역시로구만\n",
      "[15] 콩심어서 콩나고 팥심어서 팥난다.\n",
      "\n",
      "26살 밖에 안된 새파랗게 어린놈이 뭘 배워처먹어서\n",
      "술처먹고 음주운전으로 한명은 중상 한명은 죽게 하고,\n",
      "그 애미애비란것들은 누구한테 어떻게 사과를 했길레\n",
      "피해자 부모는 사과 받은적이 없다고 하겠냐?\n",
      "\n",
      "갈수록 세상살면서 강하게 느껴진다.\n",
      "그부모에 그새끼다.\n",
      "[16] 니새끼 술처먹고 옆에 탄 여자애 주물럭 거리다가 사고낸건 알고 말하는거냐?진짜 뻔뻔한것도 분수가 있지 애미나 새끼나\n",
      "[17] 장례식 때 근조화환을 보내는 등 사죄의 마음을 표하기도 했다\"고 증언했다.\n",
      "진짜 미침 부모 아냐 사람을 죽여놓고 근조화환을 보낸 부모도 싸이코내  \n",
      "술 처먹고 사고 에  사망사고라면 무기징역 은 돼야지  \n",
      "거짓말까지 참 사과 했다   내가 당신자식 차로 처참하게 죽이고  사과하고 합의하자 하면 해주겠나 그것도 술처먹고  뻔뻔함 까지   판사양반   당신가족 죽인놈이 앞에서 재판을 하면  기분이 어떨까\n",
      "[18] 자극?니새끼 그리 허망히 뒤지고나서도\n",
      "그런 말같잖은변명할래?\n",
      "맞아죽는한이 있어도 그들앞에 무릎꿇고\n",
      "석고대죄해야하거늘...\n",
      "행여 사죄했어도\n",
      "저게 법정서 나도할만큼했다하고\n",
      "떠벌이는건 사자에 대한 예가 아니지!!!\n",
      "당신이 죽어도 저부모의 아들은 살아돌아오지 않아.저런 그른인성부모밑에서 저런 파렴치한 가해자가 나오는겨\n",
      "[19] 지가 사과한게 뭐가 그렇게 중요한가\n",
      "남의 귀한 자식은 지 새끼때문에 돌아오지를 못하는데\n",
      "그 집 앞에서 몇 날 며칠을 석고대죄를 해도 모자를판에...\n",
      "[20] 씨가 더럽다\n",
      "1심 육년형 + 위증3+미합의6\n",
      "도합  15년형때려라\n",
      "그래도 샤십초반 출소해서\n",
      "또  사고친다\n"
     ]
    }
   ],
   "source": [
    "from selenium import webdriver\n",
    "from selenium.webdriver.common.by import By\n",
    "from selenium.webdriver.support.ui import WebDriverWait\n",
    "from selenium.webdriver.support import expected_conditions as EC\n",
    "from selenium.common.exceptions import TimeoutException\n",
    "import time\n",
    "\n",
    "chromedriver = '/usr/local/Cellar/chromedriver/chromedriver'\n",
    "driver = webdriver.Chrome(chromedriver)\n",
    "driver.get('https://news.v.daum.net/v/20190709165157301?d=y')\n",
    "\n",
    "loop, count = True, 0\n",
    "\n",
    "while loop and count < 10:\n",
    "    try:\n",
    "        element = WebDriverWait(driver, 5).until(\n",
    "            EC.presence_of_element_located((By.CSS_SELECTOR, '#alex-area > div > div > div > div.cmt_box > div.alex_more > button')) # 2020.10.06 태그 변경 (a -> button)\n",
    "        )\n",
    "        more_button = driver.find_element_by_css_selector('#alex-area > div > div > div > div.cmt_box > div.alex_more > button') # 2020.10.06 태그 변경 (a -> button)\n",
    "        webdriver.ActionChains(driver).click(more_button).perform()\n",
    "        count += 1\n",
    "        time.sleep(5)\n",
    "    except TimeoutException:\n",
    "        loop = False\n",
    "\n",
    "comment_box = driver.find_element_by_css_selector('#alex-area > div > div > div > div.cmt_box > ul.list_comment')\n",
    "comment_list = comment_box.find_elements_by_tag_name('li')\n",
    "for num, comment_item in enumerate(comment_list):\n",
    "    print (\"[\" + str(num + 1) + \"]\", comment_item.find_element_by_css_selector('div p').text)\n",
    "\n",
    "driver.quit()"
   ]
  },
  {
   "cell_type": "code",
   "execution_count": null,
   "metadata": {},
   "outputs": [],
   "source": []
  },
  {
   "cell_type": "code",
   "execution_count": null,
   "metadata": {},
   "outputs": [],
   "source": []
  },
  {
   "cell_type": "code",
   "execution_count": null,
   "metadata": {},
   "outputs": [],
   "source": []
  },
  {
   "cell_type": "code",
   "execution_count": null,
   "metadata": {},
   "outputs": [],
   "source": []
  },
  {
   "cell_type": "code",
   "execution_count": null,
   "metadata": {},
   "outputs": [],
   "source": []
  },
  {
   "cell_type": "code",
   "execution_count": null,
   "metadata": {},
   "outputs": [],
   "source": []
  },
  {
   "cell_type": "code",
   "execution_count": null,
   "metadata": {},
   "outputs": [],
   "source": []
  },
  {
   "cell_type": "code",
   "execution_count": null,
   "metadata": {},
   "outputs": [],
   "source": []
  },
  {
   "cell_type": "code",
   "execution_count": null,
   "metadata": {},
   "outputs": [],
   "source": []
  },
  {
   "cell_type": "code",
   "execution_count": null,
   "metadata": {},
   "outputs": [],
   "source": []
  },
  {
   "cell_type": "code",
   "execution_count": null,
   "metadata": {},
   "outputs": [],
   "source": []
  }
 ],
 "metadata": {
  "kernelspec": {
   "display_name": "Python 3",
   "language": "python",
   "name": "python3"
  },
  "language_info": {
   "codemirror_mode": {
    "name": "ipython",
    "version": 3
   },
   "file_extension": ".py",
   "mimetype": "text/x-python",
   "name": "python",
   "nbconvert_exporter": "python",
   "pygments_lexer": "ipython3",
   "version": "3.7.7"
  }
 },
 "nbformat": 4,
 "nbformat_minor": 2
}
