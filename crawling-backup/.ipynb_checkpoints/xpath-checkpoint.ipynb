{
 "cells": [
  {
   "cell_type": "markdown",
   "metadata": {},
   "source": [
    "## XPATH를 이용하여 크롤링하기\n",
    " - 마크업에서 요소를 정의하기 위해 path 경로를 사용하는 방법\n",
    " - find_element_by_xpath(), find_elements_by_xpath() 메서드로 검색 가능\n",
    " - [XPATH 문법 상세 참고](https://wkdtjsgur100.github.io/selenium-xpath/)\n",
    " "
   ]
  },
  {
   "cell_type": "markdown",
   "metadata": {},
   "source": [
    "\n",
    "   - / : 절대경로를 나타냄\n",
    "   - // : 문서내에서 검색\n",
    "   - //@href : href 속성이 있는 모든 태그 선택\n",
    "   - //a[@href='http://google.com'] : a 태그의 href 속성에 http://google.com 속성값을 가진 모든 태그 선택 \n",
    "   - (//a)[3] : 문서의 세 번째 링크 선택\n",
    "   - (//table)[last()] : 문서의 마지막 테이블 선택\n",
    "   - (//a)[position() < 3] : 문서의 처음 두 링크 선택\n",
    "   - //table/tr/* 모든 테이블에서 모든 자식 tr 태그 선택\n",
    "   - //div[@*] 속성이 하나라도 있는 div 태그 선택"
   ]
  },
  {
   "cell_type": "code",
   "execution_count": 12,
   "metadata": {},
   "outputs": [
    {
     "name": "stdout",
     "output_type": "stream",
     "text": [
      "오승윤 \"음주운전 방조, 제 잘못..깊이 뉘우치고 있다\" [공식입장]\n"
     ]
    }
   ],
   "source": [
    "from selenium import webdriver\n",
    "\n",
    "options = webdriver.ChromeOptions()\n",
    "options.add_argument('headless')\n",
    "options.add_argument('window-size=1920x1080')\n",
    "options.add_argument(\"disable-gpu\")\n",
    "options.add_argument(\"User-Agent:  Mozilla/5.0 (Macintosh; Intel Mac OS X 10_14_4) AppleWebKit/537.36 (KHTML, like Gecko) Chrome/74.0.3729.131 Safari/537.36\")\n",
    "options.add_argument(\"lang=ko_KR\")\n",
    "\n",
    "chromedriver = '/usr/local/Cellar/chromedriver/chromedriver'\n",
    "driver = webdriver.Chrome(chromedriver, options=options)\n",
    "driver.get('https://entertain.v.daum.net/v/20190711174023188')\n",
    "\n",
    "title = driver.find_element_by_xpath(\"//h3[@class='tit_view']\")\n",
    "print (title.text)\n",
    "driver.quit()\n"
   ]
  },
  {
   "cell_type": "code",
   "execution_count": 3,
   "metadata": {
    "scrolled": true
   },
   "outputs": [],
   "source": [
    "from selenium import webdriver\n",
    "from selenium.webdriver.support.ui import WebDriverWait\n",
    "from selenium.webdriver.support import expected_conditions as EC\n",
    "from selenium.webdriver.common.by import By\n",
    "import time\n",
    "\n",
    "driver = webdriver.Chrome('/usr/local/Cellar/chromedriver/chromedriver')\n",
    "driver.get('https://www.facebook.com/')\n",
    "\n",
    "user_name = ''\n",
    "password = ''\n",
    "email_id = \"//*[@id='email']\"\n",
    "password_id = \"//*[@id='pass']\"\n",
    "\n",
    "# 2021.02.28 수정 : \n",
    "# 웹사이트 변경으로, 영상에서 시연한 \"//*[@id='u_0_b']\" 등으로는 id 가 매번 변경되어, 선택이 되지 않습니다.\n",
    "# 따라서 변경되지 않은 button 의 name 속성을 사용해서 \"//*[@name='login']\"  으로 변경합니다.\n",
    "login_button = \"//*[@name='login']\"\n",
    "\n",
    "email_tag = WebDriverWait(driver, 10).until(EC.presence_of_element_located((By.XPATH, email_id)))\n",
    "password_tag = WebDriverWait(driver, 10).until(EC.presence_of_element_located((By.XPATH, password_id)))\n",
    "login_button_tag = WebDriverWait(driver, 10).until(EC.presence_of_element_located((By.XPATH, login_button)))\n",
    "\n",
    "email_tag.clear()\n",
    "email_tag.send_keys(user_name)\n",
    "password_tag.clear()\n",
    "password_tag.send_keys(password)\n",
    "login_button_tag.click()\n",
    "\n",
    "time.sleep(5)\n",
    "\n",
    "driver.quit()"
   ]
  },
  {
   "cell_type": "code",
   "execution_count": 15,
   "metadata": {},
   "outputs": [],
   "source": []
  },
  {
   "cell_type": "code",
   "execution_count": 26,
   "metadata": {},
   "outputs": [
    {
     "name": "stdout",
     "output_type": "stream",
     "text": [
      "[['  화웨이 제품 500개 넘게 조사했더니 취약점이 한 가득  [1]', '1066'], ['  죽지도 않고 또 왔네 : 애플 아이팟 터치 7세대  [1]', '2683'], ['  갤럭시 폴드 출시 연기 ㅋㅋ  [5]', '3881'], [\"  월 1만원 아끼려고…넷플릭스 인기에 '계정 공유' 플랫폼 성황  [6]\", '9890'], ['  美, 화웨이 이은 ‘틱톡’ … 제2 보안 위협 지목  [2]', '5039'], [\"  [이진욱의 전자수첩] '폴더블폰' 기다렸더니…'경첩' 내미는 LG의 짠내  [2]\", '4998'], [\"  LG전자 비밀병기 '듀얼 디스플레이폰'의 정체   [4]\", '6092'], [\"  LG전자, 스마트폰 위축속 TV도 '안갯속'…OLED 치킨게임 전초전  \", '2819'], [\"  LG전자, MC부진으로 충격적 '어닝쇼크'…권봉석 사장 체제 '흔들'  [3]\", '3789'], ['  ‘영업익 3조’ 꿈 무너진 LG전자, 발목 잡은 스마트폰 15분기 연속적자(종합)  [2]', '3237']]\n"
     ]
    }
   ],
   "source": [
    "from selenium import webdriver\n",
    "\n",
    "driver = webdriver.Chrome('/usr/local/Cellar/chromedriver/chromedriver')\n",
    "driver.get('https://www.seeko.kr/zboard4/zboard.php?id=mainnews')\n",
    "\n",
    "article_data = list()\n",
    "titles = driver.find_elements_by_xpath(\"//td[@class='article_subject']\")\n",
    "hits = driver.find_elements_by_xpath(\"//td[@class='r_s_font article_count']\")\n",
    "\n",
    "for num in range(10):\n",
    "    article_data.append([titles[num].text, hits[num].text])\n",
    "\n",
    "print (article_data)"
   ]
  },
  {
   "cell_type": "code",
   "execution_count": null,
   "metadata": {},
   "outputs": [],
   "source": []
  },
  {
   "cell_type": "code",
   "execution_count": null,
   "metadata": {
    "collapsed": true
   },
   "outputs": [],
   "source": []
  }
 ],
 "metadata": {
  "kernelspec": {
   "display_name": "Python 3",
   "language": "python",
   "name": "python3"
  },
  "language_info": {
   "codemirror_mode": {
    "name": "ipython",
    "version": 3
   },
   "file_extension": ".py",
   "mimetype": "text/x-python",
   "name": "python",
   "nbconvert_exporter": "python",
   "pygments_lexer": "ipython3",
   "version": "3.8.5"
  },
  "nbTranslate": {
   "displayLangs": [
    "*"
   ],
   "hotkey": "alt-t",
   "langInMainMenu": true,
   "sourceLang": "en",
   "targetLang": "fr",
   "useGoogleTranslate": true
  }
 },
 "nbformat": 4,
 "nbformat_minor": 1
}
