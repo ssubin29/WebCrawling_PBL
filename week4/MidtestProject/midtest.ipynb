{
 "cells": [
  {
   "cell_type": "markdown",
   "metadata": {},
   "source": [
    "### 일별 시세 캘린더"
   ]
  },
  {
   "cell_type": "code",
   "execution_count": 2,
   "metadata": {},
   "outputs": [],
   "source": [
    "import openpyxl\n",
    "import requests\n",
    "from bs4 import BeautifulSoup\n",
    "\n",
    "def write_excel_template(filename, sheetname, listdata):\n",
    "    excel_file = openpyxl.Workbook()\n",
    "    excel_sheet = excel_file.active\n",
    "    excel_sheet.column_dimensions['A'].width = 20\n",
    "    excel_sheet.column_dimensions['B'].width = 20\n",
    "    excel_sheet.column_dimensions['C'].width = 20\n",
    "    excel_sheet.column_dimensions['D'].width = 20\n",
    "    excel_sheet.column_dimensions['E'].width=20\n",
    "    \n",
    "    if sheetname != '':\n",
    "        excel_sheet.title = sheetname\n",
    "    \n",
    "    for item in listdata:\n",
    "        excel_sheet.append(item)\n",
    "    excel_file.save(filename)\n",
    "    excel_file.close()\n",
    "   \n",
    "product_lists = list()\n",
    "\n",
    "for page_num in range(10):\n",
    "    res = requests.get('https://finance.naver.com/marketindex/exchangeDailyQuote.nhn?marketindexCd=FX_USDKRW&page=' + str(page_num + 1))\n",
    "    soup = BeautifulSoup(res.content, 'html.parser')\n",
    "    data = soup.select('table.tbl_exchange.today tbody tr')\n",
    "    for item in data:\n",
    "        product_fullDate = item.find('td',{'class':'date'}).get_text().strip()\n",
    "        product_date=item.find('td',{'class':'date'}).get_text().strip().split('.')\n",
    "        product_dollar = item.find('td',{'class':'num'}).get_text().strip().split(',')\n",
    "        product_info = [product_fullDate, product_date[0],product_date[1],product_date[2],product_dollar[0]+product_dollar[1]]\n",
    "        product_lists.append(product_info)\n",
    "\n",
    "write_excel_template('data.xlsx','달러',product_lists)"
   ]
  },
  {
   "cell_type": "code",
   "execution_count": null,
   "metadata": {},
   "outputs": [],
   "source": []
  }
 ],
 "metadata": {
  "kernelspec": {
   "display_name": "Python 3",
   "language": "python",
   "name": "python3"
  },
  "language_info": {
   "codemirror_mode": {
    "name": "ipython",
    "version": 3
   },
   "file_extension": ".py",
   "mimetype": "text/x-python",
   "name": "python",
   "nbconvert_exporter": "python",
   "pygments_lexer": "ipython3",
   "version": "3.8.5"
  }
 },
 "nbformat": 4,
 "nbformat_minor": 4
}
