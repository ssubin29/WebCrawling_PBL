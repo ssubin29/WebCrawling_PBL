{
 "cells": [
  {
   "cell_type": "code",
   "execution_count": 1,
   "metadata": {},
   "outputs": [
    {
     "name": "stdout",
     "output_type": "stream",
     "text": [
      "{'2021.04.29': 1108.5, '2021.04.27': 1112.0, '2021.04.26': 1111.0, '2021.02.25': 1109.0, '2021.02.24': 1109.0, '2021.02.23': 1112.0, '2021.02.22': 1112.0, '2021.02.19': 1106.5, '2021.02.18': 1107.0, '2021.02.17': 1107.5, '2021.02.16': 1102.0, '2021.02.15': 1102.5, '2021.02.10': 1107.0, '2021.01.27': 1105.0, '2021.01.26': 1105.5, '2021.01.25': 1102.5, '2021.01.22': 1105.0, '2021.01.21': 1101.0, '2021.01.20': 1101.5, '2021.01.19': 1102.5, '2021.01.18': 1107.0, '2021.01.15': 1103.5, '2021.01.14': 1096.0, '2021.01.13': 1097.0, '2021.01.12': 1099.0, '2021.01.11': 1098.0, '2021.01.08': 1092.0, '2021.01.07': 1092.0, '2021.01.06': 1086.5, '2021.01.05': 1089.0, '2021.01.04': 1082.5, '2020.12.31': 1088.0, '2020.12.30': 1087.5, '2020.12.29': 1093.5, '2020.12.28': 1096.5, '2020.12.24': 1103.5, '2020.12.23': 1107.5, '2020.12.22': 1106.5, '2020.12.21': 1109.0, '2020.12.18': 1099.5, '2020.12.17': 1094.0, '2020.12.16': 1091.0, '2020.12.15': 1094.5, '2020.12.14': 1092.5, '2020.12.11': 1092.0}\n"
     ]
    }
   ],
   "source": [
    "import requests\n",
    "from bs4 import BeautifulSoup\n",
    "\n",
    "exchange_rate={}\n",
    "for page_num in range(10):\n",
    "    res = requests.get('https://finance.naver.com/marketindex/exchangeDailyQuote.nhn?marketindexCd=FX_USDKRW&page=' + str(page_num + 1))\n",
    "    soup = BeautifulSoup(res.content, 'html.parser')\n",
    "    data = soup.select('table.tbl_exchange.today tbody tr')\n",
    "    for item in data:\n",
    "        exchange_rate[item.find('td',{'class':'date'}).get_text().strip()] = float(item.find('td',{'class':'num'}).get_text().strip().replace(',',''))   \n",
    "#print(exchange_rate)\n",
    "purchase_amount=1113\n",
    "purchase_date={}\n",
    "for date in exchange_rate:\n",
    "    if exchange_rate[date]<1113 :\n",
    "        purchase_date[date]=exchange_rate[date]\n",
    "        \n",
    "print(purchase_date)"
   ]
  },
  {
   "cell_type": "code",
   "execution_count": null,
   "metadata": {},
   "outputs": [],
   "source": []
  }
 ],
 "metadata": {
  "kernelspec": {
   "display_name": "Python 3",
   "language": "python",
   "name": "python3"
  },
  "language_info": {
   "codemirror_mode": {
    "name": "ipython",
    "version": 3
   },
   "file_extension": ".py",
   "mimetype": "text/x-python",
   "name": "python",
   "nbconvert_exporter": "python",
   "pygments_lexer": "ipython3",
   "version": "3.7.4"
  }
 },
 "nbformat": 4,
 "nbformat_minor": 2
}
