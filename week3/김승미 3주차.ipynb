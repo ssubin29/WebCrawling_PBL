{
 "cells": [
  {
   "cell_type": "code",
   "execution_count": 6,
   "metadata": {},
   "outputs": [
    {
     "name": "stdout",
     "output_type": "stream",
     "text": [
      "/이미지투데이\n"
     ]
    }
   ],
   "source": [
    "#크롤링 패턴 코드 \n",
    "\n",
    "import requests\n",
    "from bs4 import BeautifulSoup\n",
    "res =requests.get('https://news.naver.com/main/read.nhn?mode=LSD&mid=shm&sid1=101&oid=011&aid=0003906576')\n",
    "\n",
    "soup = BeautifulSoup(res.content,'html.parser')\n",
    "mydata = soup.find('span','end_photo_org')\n",
    "print(mydata.get_text())"
   ]
  },
  {
   "cell_type": "markdown",
   "metadata": {},
   "source": [
    "#크롤링 강력한 팁 - 크롬 브라우저 활용하기 \n",
    " 1. command +option+ i , 크롬 개발자 모드 \n",
    " --> 상단 마우스 표시 선택 후 내가 원하는 컨텐츠 클릭 --> 해당 데이터 위치 나옴 \n",
    " --> 우클릭 후 copy 해서 따로 outerhtml 페이지로 열 수도 있다\n"
   ]
  },
  {
   "cell_type": "code",
   "execution_count": 8,
   "metadata": {},
   "outputs": [
    {
     "name": "stdout",
     "output_type": "stream",
     "text": [
      "(왕초보) - 클래스 소개\n",
      "(왕초보) - 블로그 개발 필요한 준비물 준비하기\n",
      "(왕초보) - Github pages 설정해서 블로그 첫 페이지 만들어보기\n",
      "(왕초보) - 초간단 페이지 만들어보기\n",
      "(왕초보) - 이쁘게 테마 적용해보기\n",
      "(왕초보) - 마크다운 기초 이해하고, 실제 나만의 블로그 페이지 만들기\n",
      "(왕초보) - 다양한 마크다운 기법 익혀보며, 나만의 블로그 페이지 꾸며보기\n",
      "(초급) - 강사가 실제 사용하는 자동 프로그램 소개 [2]\n",
      "(초급) - 필요한 프로그램 설치 시연 [5]\n",
      "(초급) - 데이터를 엑셀 파일로 만들기 [9]\n",
      "(초급) -     엑셀 파일 이쁘게! 이쁘게! [8]\n",
      "(초급) -     나대신 주기적으로 파이썬 프로그램 실행하기 [7]\n",
      "(초급) - 파이썬으로 슬랙(slack) 메신저에 글쓰기 [40]\n",
      "(초급) - 웹사이트 변경사항 주기적으로 체크해서, 메신저로 알람주기 [12]\n",
      "(초급) - 네이버 API 사용해서, 블로그에 글쓰기 [42]\n",
      "(중급) - 자동으로 쿠팡파트너스 API 로 가져온 상품 정보, 네이버 블로그/트위터에 홍보하기 [412]\n"
     ]
    }
   ],
   "source": [
    "import requests\n",
    "from bs4 import BeautifulSoup\n",
    "res =requests.get('http://davelee-fun.github.io/blog/crawl_test')\n",
    "\n",
    "soup = BeautifulSoup(res.content,'html.parser') #파싱하는 부분\n",
    "\n",
    "titles = soup.find_all('li','course')\n",
    "for title in titles:\n",
    "    print(title.get_text())"
   ]
  },
  {
   "cell_type": "markdown",
   "metadata": {},
   "source": [
    "# 크롤링 강력한 팁 \n",
    "1. 추출한 것에서 또 추출하기 : find()로 더 크게 감싸는 태그르 추출하고 다시 추출된 데이터에서 find_all()로 원하는 부분을 추출\n"
   ]
  },
  {
   "cell_type": "code",
   "execution_count": 32,
   "metadata": {},
   "outputs": [
    {
     "ename": "AttributeError",
     "evalue": "'NoneType' object has no attribute 'find_all'",
     "output_type": "error",
     "traceback": [
      "\u001b[0;31m---------------------------------------------------------------------------\u001b[0m",
      "\u001b[0;31mAttributeError\u001b[0m                            Traceback (most recent call last)",
      "\u001b[0;32m<ipython-input-32-a41f07c522bd>\u001b[0m in \u001b[0;36m<module>\u001b[0;34m\u001b[0m\n\u001b[1;32m      6\u001b[0m \u001b[0;34m\u001b[0m\u001b[0m\n\u001b[1;32m      7\u001b[0m \u001b[0msection\u001b[0m\u001b[0;34m=\u001b[0m\u001b[0msoup\u001b[0m\u001b[0;34m.\u001b[0m\u001b[0mfind\u001b[0m\u001b[0;34m(\u001b[0m\u001b[0;34m'ul a'\u001b[0m\u001b[0;34m,\u001b[0m\u001b[0mid\u001b[0m\u001b[0;34m=\u001b[0m\u001b[0;34m'dev_course_list'\u001b[0m\u001b[0;34m)\u001b[0m\u001b[0;34m\u001b[0m\u001b[0;34m\u001b[0m\u001b[0m\n\u001b[0;32m----> 8\u001b[0;31m \u001b[0mtitles\u001b[0m\u001b[0;34m=\u001b[0m\u001b[0msection\u001b[0m\u001b[0;34m.\u001b[0m\u001b[0mfind_all\u001b[0m\u001b[0;34m(\u001b[0m\u001b[0;34m'li'\u001b[0m\u001b[0;34m,\u001b[0m\u001b[0;34m'course'\u001b[0m\u001b[0;34m)\u001b[0m\u001b[0;34m\u001b[0m\u001b[0;34m\u001b[0m\u001b[0m\n\u001b[0m\u001b[1;32m      9\u001b[0m \u001b[0;34m\u001b[0m\u001b[0m\n\u001b[1;32m     10\u001b[0m \u001b[0;32mfor\u001b[0m \u001b[0mtitle\u001b[0m \u001b[0;32min\u001b[0m \u001b[0mtitles\u001b[0m\u001b[0;34m:\u001b[0m\u001b[0;34m\u001b[0m\u001b[0;34m\u001b[0m\u001b[0m\n",
      "\u001b[0;31mAttributeError\u001b[0m: 'NoneType' object has no attribute 'find_all'"
     ]
    }
   ],
   "source": [
    "import requests\n",
    "from bs4 import BeautifulSoup\n",
    "res =requests.get('http://davelee-fun.github.io/blog/crawl_test')\n",
    "\n",
    "soup = BeautifulSoup(res.content,'html.parser') #파싱하는 부분\n",
    "\n",
    "section=soup.find('ul',id='dev_course_list')\n",
    "titles=section.find_all('li','course')\n",
    "\n",
    "for title in titles:\n",
    "    print(title.get_text())"
   ]
  },
  {
   "cell_type": "markdown",
   "metadata": {},
   "source": [
    "#크롤링 강력한 탭\n",
    "1. strip() 함수 사용\n",
    "2. split() 함수 사용\n"
   ]
  },
  {
   "cell_type": "code",
   "execution_count": 23,
   "metadata": {},
   "outputs": [
    {
     "name": "stdout",
     "output_type": "stream",
     "text": [
      "(초급) - 강사가 실제 사용하는 자동 프로그램 소개 \n",
      "(초급) - 필요한 프로그램 설치 시연 \n",
      "(초급) - 데이터를 엑셀 파일로 만들기 \n",
      "(초급) -     엑셀 파일 이쁘게! 이쁘게! \n",
      "(초급) -     나대신 주기적으로 파이썬 프로그램 실행하기 \n",
      "(초급) - 파이썬으로 슬랙(slack) 메신저에 글쓰기 \n",
      "(초급) - 웹사이트 변경사항 주기적으로 체크해서, 메신저로 알람주기 \n",
      "(초급) - 네이버 API 사용해서, 블로그에 글쓰기 \n",
      "(중급) - 자동으로 쿠팡파트너스 API 로 가져온 상품 정보, 네이버 블로그/트위터에 홍보하기 \n"
     ]
    }
   ],
   "source": [
    "import requests\n",
    "from bs4 import BeautifulSoup\n",
    "res =requests.get('http://davelee-fun.github.io/blog/crawl_test')\n",
    "\n",
    "soup = BeautifulSoup(res.content,'html.parser') #파싱하는 부분\n",
    "\n",
    "section=soup.find('ul',id='dev_course_list')\n",
    "titles=section.find_all('li','course')\n",
    "\n",
    "for title in titles:\n",
    "    print(title.get_text().split('[')[0])"
   ]
  },
  {
   "cell_type": "code",
   "execution_count": 24,
   "metadata": {},
   "outputs": [
    {
     "name": "stdout",
     "output_type": "stream",
     "text": [
      " 강사가 실제 사용하는 자동 프로그램 소개 \n",
      " 필요한 프로그램 설치 시연 \n",
      " 데이터를 엑셀 파일로 만들기 \n",
      "     엑셀 파일 이쁘게! 이쁘게! \n",
      "     나대신 주기적으로 파이썬 프로그램 실행하기 \n",
      " 파이썬으로 슬랙(slack) 메신저에 글쓰기 \n",
      " 웹사이트 변경사항 주기적으로 체크해서, 메신저로 알람주기 \n",
      " 네이버 API 사용해서, 블로그에 글쓰기 \n",
      " 자동으로 쿠팡파트너스 API 로 가져온 상품 정보, 네이버 블로그/트위터에 홍보하기 \n"
     ]
    }
   ],
   "source": [
    "#접두어 제거\n",
    "import requests\n",
    "from bs4 import BeautifulSoup\n",
    "res =requests.get('http://davelee-fun.github.io/blog/crawl_test')\n",
    "\n",
    "soup = BeautifulSoup(res.content,'html.parser') #파싱하는 부분\n",
    "\n",
    "section=soup.find('ul',id='dev_course_list')\n",
    "titles=section.find_all('li','course')\n",
    "\n",
    "for title in titles:\n",
    "    print(title.get_text().split('[')[0].split('-')[1])"
   ]
  },
  {
   "cell_type": "code",
   "execution_count": 26,
   "metadata": {},
   "outputs": [
    {
     "name": "stdout",
     "output_type": "stream",
     "text": [
      "강사가 실제 사용하는 자동 프로그램 소개\n",
      "필요한 프로그램 설치 시연\n",
      "데이터를 엑셀 파일로 만들기\n",
      "엑셀 파일 이쁘게! 이쁘게!\n",
      "나대신 주기적으로 파이썬 프로그램 실행하기\n",
      "파이썬으로 슬랙(slack) 메신저에 글쓰기\n",
      "웹사이트 변경사항 주기적으로 체크해서, 메신저로 알람주기\n",
      "네이버 API 사용해서, 블로그에 글쓰기\n",
      "자동으로 쿠팡파트너스 API 로 가져온 상품 정보, 네이버 블로그/트위터에 홍보하기\n"
     ]
    }
   ],
   "source": [
    "#공백 제거하기\n",
    "import requests\n",
    "from bs4 import BeautifulSoup\n",
    "res =requests.get('http://davelee-fun.github.io/blog/crawl_test')\n",
    "\n",
    "soup = BeautifulSoup(res.content,'html.parser') #파싱하는 부분\n",
    "\n",
    "section=soup.find('ul',id='dev_course_list')\n",
    "titles=section.find_all('li','course')\n",
    "\n",
    "for title in titles:\n",
    "    print(title.get_text().split('[')[0].split('-')[1].strip())"
   ]
  },
  {
   "cell_type": "code",
   "execution_count": 29,
   "metadata": {},
   "outputs": [
    {
     "name": "stdout",
     "output_type": "stream",
     "text": [
      "0.강사가 실제 사용하는 자동 프로그램 소개\n",
      "1.필요한 프로그램 설치 시연\n",
      "2.데이터를 엑셀 파일로 만들기\n",
      "3.엑셀 파일 이쁘게! 이쁘게!\n",
      "4.나대신 주기적으로 파이썬 프로그램 실행하기\n",
      "5.파이썬으로 슬랙(slack) 메신저에 글쓰기\n",
      "6.웹사이트 변경사항 주기적으로 체크해서, 메신저로 알람주기\n",
      "7.네이버 API 사용해서, 블로그에 글쓰기\n",
      "8.자동으로 쿠팡파트너스 API 로 가져온 상품 정보, 네이버 블로그/트위터에 홍보하기\n"
     ]
    }
   ],
   "source": [
    "#공백 제거하기\n",
    "import requests\n",
    "from bs4 import BeautifulSoup\n",
    "res =requests.get('http://davelee-fun.github.io/blog/crawl_test')\n",
    "\n",
    "soup = BeautifulSoup(res.content,'html.parser') #파싱하는 부분\n",
    "\n",
    "section=soup.find('ul',id='dev_course_list')\n",
    "titles=section.find_all('li','course')\n",
    "\n",
    "for index,title in enumerate( titles):\n",
    "    print(str(index)+\".\"+title.get_text().split('[')[0].split('-')[1].strip())"
   ]
  },
  {
   "cell_type": "markdown",
   "metadata": {},
   "source": [
    "#css selector 사용하기 : \n",
    "select() 안에 태그 또는 css class 이름 등을 넣어주면 됨 \n",
    " "
   ]
  },
  {
   "cell_type": "code",
   "execution_count": 33,
   "metadata": {},
   "outputs": [
    {
     "name": "stdout",
     "output_type": "stream",
     "text": [
      "(왕초보) - 클래스 소개\n",
      "(왕초보) - 블로그 개발 필요한 준비물 준비하기\n",
      "(왕초보) - Github pages 설정해서 블로그 첫 페이지 만들어보기\n",
      "(왕초보) - 초간단 페이지 만들어보기\n",
      "(왕초보) - 이쁘게 테마 적용해보기\n",
      "(왕초보) - 마크다운 기초 이해하고, 실제 나만의 블로그 페이지 만들기\n",
      "(왕초보) - 다양한 마크다운 기법 익혀보며, 나만의 블로그 페이지 꾸며보기\n",
      "(초급) - 강사가 실제 사용하는 자동 프로그램 소개 [2]\n",
      "(초급) - 필요한 프로그램 설치 시연 [5]\n",
      "(초급) - 데이터를 엑셀 파일로 만들기 [9]\n",
      "(초급) -     엑셀 파일 이쁘게! 이쁘게! [8]\n",
      "(초급) -     나대신 주기적으로 파이썬 프로그램 실행하기 [7]\n",
      "(초급) - 파이썬으로 슬랙(slack) 메신저에 글쓰기 [40]\n",
      "(초급) - 웹사이트 변경사항 주기적으로 체크해서, 메신저로 알람주기 [12]\n",
      "(초급) - 네이버 API 사용해서, 블로그에 글쓰기 [42]\n",
      "(중급) - 자동으로 쿠팡파트너스 API 로 가져온 상품 정보, 네이버 블로그/트위터에 홍보하기 [412]\n"
     ]
    }
   ],
   "source": [
    "import requests\n",
    "from bs4 import BeautifulSoup\n",
    "res = requests.get('https://davelee-fun.github.io/blog/crawl_test_css.html')\n",
    "soup = BeautifulSoup(res.content,'html.parser')\n",
    "items = soup.select('ul>li') #바로 밑에 \n",
    "for item in items:\n",
    "    print (item.get_text())"
   ]
  },
  {
   "cell_type": "code",
   "execution_count": 36,
   "metadata": {},
   "outputs": [
    {
     "name": "stdout",
     "output_type": "stream",
     "text": [
      "(왕초보) - 클래스 소개\n",
      "(왕초보) - 블로그 개발 필요한 준비물 준비하기\n",
      "(왕초보) - Github pages 설정해서 블로그 첫 페이지 만들어보기\n",
      "(왕초보) - 초간단 페이지 만들어보기\n",
      "(왕초보) - 이쁘게 테마 적용해보기\n",
      "(왕초보) - 마크다운 기초 이해하고, 실제 나만의 블로그 페이지 만들기\n",
      "(왕초보) - 다양한 마크다운 기법 익혀보며, 나만의 블로그 페이지 꾸며보기\n",
      "(초급) - 강사가 실제 사용하는 자동 프로그램 소개 [2]\n",
      "(초급) - 필요한 프로그램 설치 시연 [5]\n",
      "(초급) - 데이터를 엑셀 파일로 만들기 [9]\n",
      "(초급) -     엑셀 파일 이쁘게! 이쁘게! [8]\n",
      "(초급) -     나대신 주기적으로 파이썬 프로그램 실행하기 [7]\n",
      "(초급) - 파이썬으로 슬랙(slack) 메신저에 글쓰기 [40]\n",
      "(초급) - 웹사이트 변경사항 주기적으로 체크해서, 메신저로 알람주기 [12]\n",
      "(초급) - 네이버 API 사용해서, 블로그에 글쓰기 [42]\n",
      "(중급) - 자동으로 쿠팡파트너스 API 로 가져온 상품 정보, 네이버 블로그/트위터에 홍보하기 [412]\n"
     ]
    }
   ],
   "source": [
    "import requests\n",
    "from bs4 import BeautifulSoup\n",
    "res = requests.get('https://davelee-fun.github.io/blog/crawl_test_css.html')\n",
    "soup = BeautifulSoup(res.content,'html.parser')\n",
    "items = soup.select('.course') #클래스 이름으로  \n",
    "for item in items:\n",
    "    print (item.get_text())"
   ]
  },
  {
   "cell_type": "code",
   "execution_count": 37,
   "metadata": {},
   "outputs": [
    {
     "name": "stdout",
     "output_type": "stream",
     "text": [
      "(왕초보) - 클래스 소개\n",
      "(왕초보) - 블로그 개발 필요한 준비물 준비하기\n",
      "(왕초보) - Github pages 설정해서 블로그 첫 페이지 만들어보기\n",
      "(왕초보) - 초간단 페이지 만들어보기\n",
      "(왕초보) - 이쁘게 테마 적용해보기\n",
      "(왕초보) - 마크다운 기초 이해하고, 실제 나만의 블로그 페이지 만들기\n",
      "(왕초보) - 다양한 마크다운 기법 익혀보며, 나만의 블로그 페이지 꾸며보기\n"
     ]
    }
   ],
   "source": [
    "import requests\n",
    "from bs4 import BeautifulSoup\n",
    "res = requests.get('https://davelee-fun.github.io/blog/crawl_test_css.html')\n",
    "soup = BeautifulSoup(res.content,'html.parser')\n",
    "items = soup.select('#start') #아이디로 \n",
    "for item in items:\n",
    "    print (item.get_text())"
   ]
  },
  {
   "cell_type": "code",
   "execution_count": 43,
   "metadata": {},
   "outputs": [
    {
     "name": "stdout",
     "output_type": "stream",
     "text": [
      "(왕초보) - 클래스 소개\n"
     ]
    }
   ],
   "source": [
    "#select_one 사용\n",
    "#copy ,selector 로도 찾을 수 있다. \n",
    "import requests\n",
    "from bs4 import BeautifulSoup\n",
    "res = requests.get('https://davelee-fun.github.io/blog/crawl_test_css.html')\n",
    "soup = BeautifulSoup(res.content,'html.parser')\n",
    "item = soup.select_one('ul#hobby_course_list li.course') #가장 처음 데이터를 매칭해서 리턴함\n",
    "print (item.get_text())"
   ]
  },
  {
   "cell_type": "code",
   "execution_count": null,
   "metadata": {},
   "outputs": [],
   "source": [
    "#find()와 select()는 서로 호환 가능해 추가적인 함수 호출이 가능하다."
   ]
  },
  {
   "cell_type": "code",
   "execution_count": null,
   "metadata": {},
   "outputs": [],
   "source": []
  },
  {
   "cell_type": "code",
   "execution_count": null,
   "metadata": {},
   "outputs": [],
   "source": []
  },
  {
   "cell_type": "code",
   "execution_count": null,
   "metadata": {},
   "outputs": [],
   "source": []
  },
  {
   "cell_type": "code",
   "execution_count": null,
   "metadata": {},
   "outputs": [],
   "source": []
  },
  {
   "cell_type": "code",
   "execution_count": null,
   "metadata": {},
   "outputs": [],
   "source": []
  },
  {
   "cell_type": "code",
   "execution_count": null,
   "metadata": {},
   "outputs": [],
   "source": []
  },
  {
   "cell_type": "code",
   "execution_count": null,
   "metadata": {},
   "outputs": [],
   "source": []
  },
  {
   "cell_type": "code",
   "execution_count": null,
   "metadata": {},
   "outputs": [],
   "source": []
  },
  {
   "cell_type": "code",
   "execution_count": null,
   "metadata": {},
   "outputs": [],
   "source": []
  },
  {
   "cell_type": "code",
   "execution_count": null,
   "metadata": {},
   "outputs": [],
   "source": []
  },
  {
   "cell_type": "code",
   "execution_count": null,
   "metadata": {},
   "outputs": [],
   "source": []
  },
  {
   "cell_type": "code",
   "execution_count": null,
   "metadata": {},
   "outputs": [],
   "source": []
  },
  {
   "cell_type": "code",
   "execution_count": null,
   "metadata": {},
   "outputs": [],
   "source": []
  },
  {
   "cell_type": "code",
   "execution_count": null,
   "metadata": {},
   "outputs": [],
   "source": []
  },
  {
   "cell_type": "code",
   "execution_count": null,
   "metadata": {},
   "outputs": [],
   "source": []
  }
 ],
 "metadata": {
  "kernelspec": {
   "display_name": "Python 3",
   "language": "python",
   "name": "python3"
  },
  "language_info": {
   "codemirror_mode": {
    "name": "ipython",
    "version": 3
   },
   "file_extension": ".py",
   "mimetype": "text/x-python",
   "name": "python",
   "nbconvert_exporter": "python",
   "pygments_lexer": "ipython3",
   "version": "3.8.5"
  }
 },
 "nbformat": 4,
 "nbformat_minor": 4
}
