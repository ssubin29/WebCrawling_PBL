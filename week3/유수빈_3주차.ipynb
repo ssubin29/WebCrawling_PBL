{
 "cells": [
  {
   "cell_type": "markdown",
   "metadata": {},
   "source": [
    "### 패턴으로 실습하며 익히기"
   ]
  },
  {
   "cell_type": "code",
   "execution_count": 7,
   "metadata": {},
   "outputs": [
    {
     "name": "stdout",
     "output_type": "stream",
     "text": [
      "\n",
      "금융당국이 급증하는 가계부채 증가세를 막기 위해 아파트 잔금대출에도 소득을 따져 대출한도를 정하는 총부채상환비율(DTI)을 적용하는 방안을 유력하게 검토하고 있다.\n",
      "지금은 집값을 기준으로 대출한도를 매기는 주택담보인정비율(LTV) 규제만 적용돼 소득이 없어도 집값의 70%를 빌려 잔금을 치르는 게 가능하다.\n",
      "앞으로 잔금대출에 DTI가 적용되면 소득이 없는 사람은 집값의 70% 대출 받는 게 어려워진다. 기사 제목과 주요 문장을 기반으로 자동요약한 결과입니다. 전체 맥락을 이해하기 위해서는 본문 보기를 권장합니다.\n",
      "\n"
     ]
    }
   ],
   "source": [
    "import requests\n",
    "from bs4 import BeautifulSoup  \n",
    "\n",
    "res = requests.get('http://v.media.daum.net/v/20170615203441266')\n",
    "soup = BeautifulSoup(res.content, 'html.parser') #웹페이지 파싱하기\n",
    "mydata=soup.find_all('p','txt_info')\n",
    "mydata2=soup.find_all('div','layer_util layer_summary')\n",
    "#soup.find(해당 html태그 ex)p,h1등등,class이름 또는 id이름)\n",
    "for item in mydata2:\n",
    "    print(item.get_text()) #필요한 데이터 추출하기"
   ]
  },
  {
   "cell_type": "markdown",
   "metadata": {},
   "source": [
    "### 크롤링 강력한 팁1 - 크롬 브라우저 활용하기\n",
    " - 1. 오픈 크롬 개발자 모드 Ctrl + Shift _i 또는 F12\n",
    " - 2. 오픈 크롬 브라우저"
   ]
  },
  {
   "cell_type": "code",
   "execution_count": 14,
   "metadata": {},
   "outputs": [
    {
     "name": "stdout",
     "output_type": "stream",
     "text": [
      "(왕초보) - 클래스 소개\n",
      "(왕초보) - 블로그 개발 필요한 준비물 준비하기\n",
      "(왕초보) - Github pages 설정해서 블로그 첫 페이지 만들어보기\n",
      "(왕초보) - 초간단 페이지 만들어보기\n",
      "(왕초보) - 이쁘게 테마 적용해보기\n",
      "(왕초보) - 마크다운 기초 이해하고, 실제 나만의 블로그 페이지 만들기\n",
      "(왕초보) - 다양한 마크다운 기법 익혀보며, 나만의 블로그 페이지 꾸며보기\n",
      "(초급) - 강사가 실제 사용하는 자동 프로그램 소개 [2]\n",
      "(초급) - 필요한 프로그램 설치 시연 [5]\n",
      "(초급) - 데이터를 엑셀 파일로 만들기 [9]\n",
      "(초급) -     엑셀 파일 이쁘게! 이쁘게! [8]\n",
      "(초급) -     나대신 주기적으로 파이썬 프로그램 실행하기 [7]\n",
      "(초급) - 파이썬으로 슬랙(slack) 메신저에 글쓰기 [40]\n",
      "(초급) - 웹사이트 변경사항 주기적으로 체크해서, 메신저로 알람주기 [12]\n",
      "(초급) - 네이버 API 사용해서, 블로그에 글쓰기 [42]\n",
      "(중급) - 자동으로 쿠팡파트너스 API 로 가져온 상품 정보, 네이버 블로그/트위터에 홍보하기 [412]\n"
     ]
    }
   ],
   "source": [
    "import requests\n",
    "from bs4 import BeautifulSoup  \n",
    "\n",
    "res = requests.get('https://davelee-fun.github.io/blog/crawl_test')\n",
    "soup = BeautifulSoup(res.content, 'html.parser') #웹페이지 파싱하기\n",
    "titles = soup.find_all('li','course')\n",
    "for title in titles:\n",
    "    print(title.get_text())"
   ]
  },
  {
   "cell_type": "markdown",
   "metadata": {},
   "source": [
    "### 크롤링 강력한 팁2 - 추출한거에서 또 추출하기\n",
    " - 1. find()로 더 크게 감싸는 HTML 태그로 추출하고\n",
    " - 2. 다시 추출된 데이터에서 find_all()로 원하는 부분을 추출\n",
    " \n",
    " ### 크롤링 강력한 팁3 - 파이썬 문자열 함수와 함께 쓰기\n",
    " - 1. strip() 2.split()"
   ]
  },
  {
   "cell_type": "code",
   "execution_count": 25,
   "metadata": {},
   "outputs": [
    {
     "name": "stdout",
     "output_type": "stream",
     "text": [
      "강사가 실제 사용하는 자동 프로그램 소개\n",
      "필요한 프로그램 설치 시연\n",
      "데이터를 엑셀 파일로 만들기\n",
      "엑셀 파일 이쁘게! 이쁘게!\n",
      "나대신 주기적으로 파이썬 프로그램 실행하기\n",
      "파이썬으로 슬랙(slack\n",
      "웹사이트 변경사항 주기적으로 체크해서, 메신저로 알람주기\n",
      "네이버 API 사용해서, 블로그에 글쓰기\n",
      "자동으로 쿠팡파트너스 API 로 가져온 상품 정보, 네이버 블로그/트위터에 홍보하기\n"
     ]
    }
   ],
   "source": [
    "import requests\n",
    "from bs4 import BeautifulSoup  \n",
    "\n",
    "res = requests.get('https://davelee-fun.github.io/blog/crawl_test')\n",
    "soup = BeautifulSoup(res.content, 'html.parser') #웹페이지 파싱하기\n",
    "\n",
    "section = soup.find('ul',id='dev_course_list')\n",
    "titles=section.find_all('li','course')\n",
    "for title in titles:\n",
    "    print(title.get_text().split('[')[0].split(')')[1].split('-')[1].strip())\n",
    "    "
   ]
  },
  {
   "cell_type": "markdown",
   "metadata": {},
   "source": [
    " ### CSS selector 사용해서 크롤링하기"
   ]
  },
  {
   "cell_type": "code",
   "execution_count": 28,
   "metadata": {},
   "outputs": [
    {
     "name": "stdout",
     "output_type": "stream",
     "text": [
      ".16 ~ 7.31,파이썬과 데이터과학 첫걸음 (IT 기본기 익히기),중급\n"
     ]
    }
   ],
   "source": [
    "from bs4 import BeautifulSoup\n",
    "import requests\n",
    "res = requests.get('https://davelee-fun.github.io/blog/crawl_html_css.html')\n",
    "soup = BeautifulSoup(res.content,\n",
    "'html.parser')\n",
    "items = soup.select('tr')\n",
    "for item in items:\n",
    "    columns = item.select('td')\n",
    "row_str = ''\n",
    "for column in columns:\n",
    "    row_str += ',' + column.get_text()\n",
    "print (row_str[2:])"
   ]
  },
  {
   "cell_type": "code",
   "execution_count": 30,
   "metadata": {},
   "outputs": [
    {
     "name": "stdout",
     "output_type": "stream",
     "text": [
      "잔재미코딩 크롤링 테스트 페이지 (커리큘럼)\n"
     ]
    }
   ],
   "source": [
    "import requests\n",
    "from bs4 import BeautifulSoup\n",
    "res = requests.get('https://davelee-fun.github.io/blog/crawl_test_css.html')\n",
    "soup = BeautifulSoup(res.content,\n",
    "'html.parser')\n",
    "items = soup.select('html body h1') #하위태그 선택\n",
    "items2 = soup.select('ul > li') #하위태그 선택2\n",
    "items3 = soup.select('.course') #css class 이름으로 검색\n",
    "items4 = soup.select('#start') #id 이름으로 검색\n",
    "\n",
    "for item in items:\n",
    "    print (item.get_text())"
   ]
  },
  {
   "cell_type": "code",
   "execution_count": 31,
   "metadata": {},
   "outputs": [
    {
     "name": "stdout",
     "output_type": "stream",
     "text": [
      "상품명: 보몽드 순면스퀘어 솔리드 누빔매트커버, 다크블루\n",
      "상품명: 슈에뜨룸 선인장 리플 침구 세트, 베이지\n",
      "상품명: 선우랜드 레인보우 2단 문걸이용 옷걸이 _중형, 화이트, 상세페이지참조\n",
      "상품명: 보드래 헬로우 누빔 매트리스커버, 핑크\n",
      "상품명: 보드래 퍼펙트 누빔 매트리스커버, 차콜\n",
      "상품명: 피아블 클래식 방수 매트리스커버, 화이트\n",
      "상품명: 더자리 에코항균 마이크로 매트리스커버, 밀키차콜그레이\n",
      "상품명: 더자리 프레쉬 퓨어 매트리스 커버, 퓨어 차콜그레이\n",
      "상품명: 몽쉐어 알러스킨 항균 매트리스 커버, 카키그레이\n",
      "상품명: 쿠팡 브랜드 - 코멧 홈 40수 트윌 순면 100% 홑겹 매트리스커버, 그레이\n",
      "상품명: 패브릭아트 항균 마이크로 원단 매트리스 커버, 아이보리\n",
      "상품명: 바숨 순면 누빔 침대 매트리스커버, 차콜\n",
      "상품명: WEMAX 다용도 문옷걸이, 화이트, 1개\n",
      "상품명: 타카타카 프리미엄 나노 화이바 누빔 매트리스 커버, 젠틀핑핑\n",
      "상품명: 보몽드 순면스퀘어 누빔매트커버, 다크그레이\n",
      "상품명: 보드래 국내산 순면 60수 누빔 매트리스커버, 그레이\n"
     ]
    }
   ],
   "source": [
    "#urllib로 작성한 코드\n",
    "from urllib.request import urlopen\n",
    "from bs4 import BeautifulSoup\n",
    "\n",
    "res = urlopen('https://davelee-fun.github.io/')\n",
    "soup = BeautifulSoup(res, 'html.parser')\n",
    "\n",
    "data = soup.select('h4.card-text')\n",
    "for item in data:\n",
    "    print (item.get_text().strip())"
   ]
  },
  {
   "cell_type": "markdown",
   "metadata": {},
   "source": [
    "### HTTP response code (크롤링할 페이지가 없는 경우 확인 방법)\n",
    "- HTTP 라는 프로토콜 규격에 따라서, 응답 데이터에 응답 코드(response code)를 넣어서 보내게 됨\n",
    "  - requests 라이브러리의 경우, requests.get() 의 리턴변수.status_code 에서 응답 코드를 확인할 수 있음\n",
    "  - HTTP 규격에 따라 응답 코드가 200 인 경우는 정상 응답, 그렇지 않으면 무언가 문제가 있다는 뜻\n",
    "    - 참고: https://ko.wikipedia.org/wiki/HTTP_%EC%83%81%ED%83%9C_%EC%BD%94%EB%93%9C\n",
    "    - 특정 페이지 요청 후, 응답 코드가 200 이 아니면, 특정 페이지가 없는 경우 (또는 결과적으로는 문제가 있는 경우)라고 인지할 수 있음"
   ]
  },
  {
   "cell_type": "code",
   "execution_count": 33,
   "metadata": {},
   "outputs": [
    {
     "name": "stdout",
     "output_type": "stream",
     "text": [
      "페이지 없음\n"
     ]
    }
   ],
   "source": [
    "import requests\n",
    "from bs4 import BeautifulSoup\n",
    "\n",
    "res = requests.get('https://davelee-fun.github.io/xxx')\n",
    "if res.status_code != 200:\n",
    "    print ('페이지 없음')\n",
    "else:\n",
    "    soup = BeautifulSoup(res.content, 'html.parser')\n",
    "\n",
    "    data = soup.select('h4.card-text')\n",
    "    for item in data:\n",
    "        print (item.get_text())"
   ]
  },
  {
   "cell_type": "markdown",
   "metadata": {},
   "source": [
    "### 여러 페이지를 한번에 크롤링하는 기법"
   ]
  },
  {
   "cell_type": "code",
   "execution_count": 34,
   "metadata": {},
   "outputs": [
    {
     "name": "stdout",
     "output_type": "stream",
     "text": [
      "상품명: 보몽드 순면스퀘어 솔리드 누빔매트커버, 다크블루\n",
      "상품명: 슈에뜨룸 선인장 리플 침구 세트, 베이지\n",
      "상품명: 선우랜드 레인보우 2단 문걸이용 옷걸이 _중형, 화이트, 상세페이지참조\n",
      "상품명: 보드래 헬로우 누빔 매트리스커버, 핑크\n",
      "상품명: 보드래 퍼펙트 누빔 매트리스커버, 차콜\n",
      "상품명: 피아블 클래식 방수 매트리스커버, 화이트\n",
      "상품명: 더자리 에코항균 마이크로 매트리스커버, 밀키차콜그레이\n",
      "상품명: 더자리 프레쉬 퓨어 매트리스 커버, 퓨어 차콜그레이\n",
      "상품명: 몽쉐어 알러스킨 항균 매트리스 커버, 카키그레이\n",
      "상품명: 쿠팡 브랜드 - 코멧 홈 40수 트윌 순면 100% 홑겹 매트리스커버, 그레이\n",
      "상품명: 패브릭아트 항균 마이크로 원단 매트리스 커버, 아이보리\n",
      "상품명: 바숨 순면 누빔 침대 매트리스커버, 차콜\n",
      "상품명: WEMAX 다용도 문옷걸이, 화이트, 1개\n",
      "상품명: 타카타카 프리미엄 나노 화이바 누빔 매트리스 커버, 젠틀핑핑\n",
      "상품명: 보몽드 순면스퀘어 누빔매트커버, 다크그레이\n",
      "상품명: 보드래 국내산 순면 60수 누빔 매트리스커버, 그레이\n",
      "상품명: 보드래 퍼펙트 누빔 매트리스커버, 베이지핑크\n",
      "상품명: 쿠팡 브랜드 - 코멧 홈 40수 순면 누빔 매트리스커버, 챠콜\n",
      "상품명: 바숨 순면 누빔 침대 매트리스커버, 화이트\n",
      "상품명: 프랑떼 항균 방수 매트리스커버, 화이트\n",
      "상품명: 보몽드 순면스퀘어 솔리드 누빔매트커버, 다크블루\n",
      "상품명: 네이쳐리빙 피아블 클래식 방수 매트리스커버, 그레이\n",
      "상품명: 쿠팡 브랜드 - 코멧 홈 순면 매트리스커버, 베이지\n",
      "상품명: 타카타카 프리미엄 나노 화이바 누빔 매트리스 커버, 프렌치불독\n",
      "상품명: 더자리 에코항균 마이크로 매트리스커버, 밀키그레이\n",
      "상품명: 보몽드 순면스퀘어 누빔매트커버, 화이트\n",
      "상품명: 피아블 클래식 방수 매트리스커버, 화이트\n",
      "상품명: 쿠팡 브랜드 - 코멧 홈 순면 매트리스커버, 차콜그레이\n",
      "상품명: 쉬즈홈 모던그리드 순면 여름이불 베개커버 패드세트, 핑크\n",
      "상품명: 스코홈 빅리플 여름 차렵이불패드 3종 세트, 마린그레이\n",
      "상품명: 아망떼 시어서커 리플 홑이불 패드세트, 웨이크\n",
      "상품명: 마이센스 무더운 여름엔 시어서커 여름이불 패드 베개 이불세트 30종, 시어서커_파스텔그레이\n",
      "상품명: 믹스앤매치 로라 프릴 시어서커 침구세트, 그레이\n",
      "상품명: 에피소드1 샤베트 프릴 시어서커 여름이불패드세트, 그레이\n",
      "상품명: 슈에뜨룸 선인장 리플 침구 세트, 베이지\n",
      "상품명: 아망떼 시어서커 리플 홑이불 패드세트, 허브티\n",
      "상품명: 지베딩 아이스베어 시어서커 여름침구 풀세트, 민트그레이\n",
      "상품명: 쁘리엘르 테스 시어서커 여름이불 패드세트, 그레이\n",
      "상품명: 쉬즈홈 시어서커 홑이불 + 토퍼 + 베개커버 세트, 나나 옐로우\n",
      "상품명: 아망떼 시어서커 리플 퀼팅 이불패드세트, 리엔나\n",
      "상품명: 바자르 트로피컬 인견 여름 이불세트 인견이불 + 베개커버 2p + 인견패드, 그린\n",
      "상품명: 바자르 라이닝 혼방 인견 여름 이불베개세트 + 패드 Q, 쿨 네이비\n",
      "상품명: 슈에뜨룸 비숑 피치스킨 침구세트, 그레이\n",
      "상품명: 스코홈 시어서커 여름 이불 패드 3종 세트, 차콜\n",
      "상품명: 스코홈 어번시리즈 순면 차렵이불 누빔 매트커버세트 S 차콜\n",
      "상품명: 쉬즈홈 루즈 시어서커 차렵이불 패드세트, 그레이\n",
      "상품명: 예가로드 메리엘 시어서커 누비이불 패드세트, 블루\n",
      "상품명: 에피소드1 샤베트 프릴 시어서커 여름이불패드세트, 화이트\n",
      "상품명: 쉬즈홈 플루 시어서커 차렵이불 패드세트, 그린\n",
      "상품명: 메종 레이스 차렵 이불 세트, 블루\n",
      "상품명: 믹스앤매치 로라 프릴 시어서커 침구세트, 그린\n",
      "상품명: 슈에뜨룸 발그레 피치 리플 침구 세트, 혼합 색상\n",
      "상품명: 보몽드 메종 레이스 차렵이불 3종 세트, 민트\n",
      "상품명: 슈에뜨룸 체크 피치스킨 침구세트, 모카\n",
      "상품명: 메리엘 시어서커 에어리플 이불세트, 그레이\n",
      "상품명: 슈에뜨룸 빠삐용 시어서커 침구세트, 네이비\n",
      "상품명: 믹스앤매치 에이프릴 리플 누비이불 패드세트, 화이트\n",
      "상품명: 쉬즈홈 시어서커 홑이불 토퍼세트, 루즈 그레이\n",
      "상품명: 이코디 5단 엔틱 도어 행거, 브라운, 1개\n",
      "상품명: 선우랜드 우드볼 도어훅 4구, 실버, 1개\n",
      "상품명: 리은상점 다용도 도어훅 문걸이 행거 모자걸이 머플러 목도리 걸이, 화이트, 5개\n",
      "상품명: 퍼니스코 다용도걸이 모자걸이 가방걸이 도어훅 도어행거 문걸이, 엔틱브라운, 1세트\n",
      "상품명: 스텐 도어후크 옷걸이/도어훅 문옷걸이 행거 바지걸이, 혼합 색상, 1개\n",
      "상품명: 디비플러스 키펙스 컬러 폭조절 오버 도어훅, 블랙, 1개\n",
      "상품명: 리빙스토리 1+1 문에 거는 문 옷걸이 음자리 도어후크 방문 행거, 음자리도어후크-로즈골드, 2개\n",
      "상품명: 나이스후크 도어행거 2개 세트 (문행거), 블랙+화이트\n",
      "상품명: 리빙파이 도어훅 옷걸이 행거 7구, 블랙, 1개\n",
      "상품명: 선우랜드 우드볼 도어훅 10구, 실버, 1개\n",
      "상품명: 웰렉스 도어행거 MH1060 신형 본사직발송 미니건조대 도어옷걸이 도어훅, 고동색, 1개\n",
      "상품명: 엔비 엔틱 7구 도어훅 옷걸이, 도어훅 1+1, 1+1\n",
      "상품명: 코시나 무타공 문걸이 후크선반 1단, 화이트, 1개\n",
      "상품명: 코시나 무타공 올스텐 문걸이행거, 혼합 색상, 1개\n",
      "상품명: [아트박스 POOM/이케아] ENUDDEN 도어 행거, 본품, 수량\n",
      "상품명: 비스비바 우드 폴 다용도걸이 3구, 혼합 색상, 1개\n",
      "상품명: 숲속애 웨이브 도어후크 5구, 블랙, 1개\n",
      "상품명: 펀타스틱 다용도 문틀걸이, 화이트, 1개\n",
      "상품명: 선우랜드 우드볼 도어훅 4구, 화이트, 1개\n",
      "상품명: 네이쳐리빙 어반모카 와이어 도어훅 옷걸이 6구, 단일 색상, 1개\n",
      "상품명: 까사마루 블랑 접이식 문걸이 건조대, 1개\n",
      "상품명: 선우랜드 우드볼 도어훅 6구, 실버, 1개\n",
      "상품명: 이케아 ENUDDEN 문걸이 행거 402.516.66, 화이트, 1개\n",
      "상품명: 선우랜드 우드볼 도어훅 10구, 화이트, 1개\n",
      "상품명: 코멧 홈 우드볼 도어행거, 6구, 혼합색상\n",
      "상품명: 선우랜드 레인보우 2단 문걸이용 옷걸이 _중형, 화이트, 상세페이지참조\n",
      "상품명: 코시나 무타공 문걸이 후크선반 2단, 화이트, 1개\n",
      "상품명: 스파이더락 도어후크 8구, 화이트, 1개\n",
      "상품명: 선우랜드 우드볼 도어훅 6구, 화이트, 1개\n",
      "상품명: 코멧 홈 우드볼 도어행거, 10구, 혼합색상\n",
      "상품명: 보드래 헬로우 누빔 매트리스커버, 핑크\n",
      "상품명: 보몽드 순면스퀘어 솔리드 누빔매트커버, 아이보리\n",
      "상품명: 더자리 에코항균 마이크로 매트리스커버, 밀키핑크\n",
      "상품명: 타카타카 프리미엄 나노 화이바 누빔 매트리스 커버, 미스밍고\n",
      "상품명: 네이쳐리빙 피아블 클래식 방수 매트리스커버, 그레이\n",
      "상품명: 프로텍트어베드 베이직 매트리스 방수커버, 그레이\n"
     ]
    }
   ],
   "source": [
    "import requests\n",
    "from bs4 import BeautifulSoup\n",
    "\n",
    "for page_num in range(10):\n",
    "    if page_num == 0:\n",
    "        res = requests.get('https://davelee-fun.github.io/')\n",
    "    else:\n",
    "        res = requests.get('https://davelee-fun.github.io/page' + str(page_num + 1))\n",
    "    soup = BeautifulSoup(res.content, 'html.parser')\n",
    "\n",
    "    data = soup.select('h4.card-text')\n",
    "    for item in data:\n",
    "        print (item.get_text().strip())"
   ]
  },
  {
   "cell_type": "markdown",
   "metadata": {},
   "source": [
    "### 크롤링해서 엑셀 파일로 만들기\n",
    "* openpyxl 라이브러리 활용\n",
    "  - xlsx 파일 읽고, 저장 모두 가능\n",
    "  - 설치: 터미널 모드에서 다음 명령 실행\n",
    "    pip install openpyxl"
   ]
  },
  {
   "cell_type": "code",
   "execution_count": 38,
   "metadata": {},
   "outputs": [],
   "source": [
    "import openpyxl \n",
    "excel_file = openpyxl.Workbook() \n",
    "#Workbook() 으로 엑셀 파일 생성 \n",
    "excel_sheet = excel_file.active\n",
    "excel_sheet.append(['data1','data2','data3'])\n",
    "excel_file.save('tmp.xlsx') #엑셀 파일 저장\n",
    "excel_file.close() #엑셀 파일 닫기"
   ]
  },
  {
   "cell_type": "code",
   "execution_count": 63,
   "metadata": {},
   "outputs": [],
   "source": [
    "import openpyxl\n",
    "import requests\n",
    "from bs4 import BeautifulSoup\n",
    "\n",
    "def write_excel_template(filename, sheetname, listdata):\n",
    "    excel_file = openpyxl.Workbook()\n",
    "    excel_sheet = excel_file.active\n",
    "    excel_sheet.column_dimensions['A'].width = 100\n",
    "    excel_sheet.column_dimensions['B'].width = 50\n",
    "    \n",
    "    if sheetname != '':\n",
    "        excel_sheet.title = sheetname\n",
    "    \n",
    "    for item in listdata:\n",
    "        excel_sheet.append(item)\n",
    "    excel_file.save(filename)\n",
    "    excel_file.close()\n",
    "    \n",
    "product_lists = list()\n",
    "\n",
    "for page_num in range(10):\n",
    "    if page_num == 0:\n",
    "        res = requests.get('https://davelee-fun.github.io/')\n",
    "    else:\n",
    "        res = requests.get('https://davelee-fun.github.io/page' + str(page_num + 1))\n",
    "    soup = BeautifulSoup(res.content, 'html.parser')\n",
    "\n",
    "    data = soup.select('div.card')\n",
    "    for item in data:\n",
    "        product_name = item.select_one('div.card-body h4.card-text')\n",
    "        product_date = item.select_one('div.wrapfooter span.post-date')\n",
    "        #a=product_name.get_text().split(':')[1].split(',')\n",
    "        #product_info = [a[0].strip(),a[1].strip(), product_date.get_text()]\n",
    "        product_info=[product_name.get_text().strip(), product_date.get_text()]\n",
    "        product_lists.append(product_info)\n",
    "        \n",
    "write_excel_template('tmp.xlsx', '상품정보', product_lists)"
   ]
  },
  {
   "cell_type": "code",
   "execution_count": 50,
   "metadata": {},
   "outputs": [
    {
     "name": "stdout",
     "output_type": "stream",
     "text": [
      "보몽드 순면스퀘어 솔리드 누빔매트커버 보몽드 순면스퀘어 솔리드 누빔매트커버, 다크블루\n",
      "슈에뜨룸 선인장 리플 침구 세트 슈에뜨룸 선인장 리플 침구 세트, 베이지\n",
      "선우랜드 레인보우 2단 문걸이용 옷걸이 _중형 선우랜드 레인보우 2단 문걸이용 옷걸이 _중형, 화이트, 상세페이지참조\n",
      "보드래 헬로우 누빔 매트리스커버 보드래 헬로우 누빔 매트리스커버, 핑크\n",
      "보드래 퍼펙트 누빔 매트리스커버 보드래 퍼펙트 누빔 매트리스커버, 차콜\n",
      "피아블 클래식 방수 매트리스커버 피아블 클래식 방수 매트리스커버, 화이트\n",
      "더자리 에코항균 마이크로 매트리스커버 더자리 에코항균 마이크로 매트리스커버, 밀키차콜그레이\n",
      "더자리 프레쉬 퓨어 매트리스 커버 더자리 프레쉬 퓨어 매트리스 커버, 퓨어 차콜그레이\n",
      "몽쉐어 알러스킨 항균 매트리스 커버 몽쉐어 알러스킨 항균 매트리스 커버, 카키그레이\n",
      "쿠팡 브랜드 - 코멧 홈 40수 트윌 순면 100% 홑겹 매트리스커버 쿠팡 브랜드 - 코멧 홈 40수 트윌 순면 100% 홑겹 매트리스커버, 그레이\n",
      "패브릭아트 항균 마이크로 원단 매트리스 커버 패브릭아트 항균 마이크로 원단 매트리스 커버, 아이보리\n",
      "바숨 순면 누빔 침대 매트리스커버 바숨 순면 누빔 침대 매트리스커버, 차콜\n",
      "WEMAX 다용도 문옷걸이 WEMAX 다용도 문옷걸이, 화이트, 1개\n",
      "타카타카 프리미엄 나노 화이바 누빔 매트리스 커버 타카타카 프리미엄 나노 화이바 누빔 매트리스 커버, 젠틀핑핑\n",
      "보몽드 순면스퀘어 누빔매트커버 보몽드 순면스퀘어 누빔매트커버, 다크그레이\n",
      "보드래 국내산 순면 60수 누빔 매트리스커버 보드래 국내산 순면 60수 누빔 매트리스커버, 그레이\n",
      "보드래 퍼펙트 누빔 매트리스커버 보드래 퍼펙트 누빔 매트리스커버, 베이지핑크\n",
      "쿠팡 브랜드 - 코멧 홈 40수 순면 누빔 매트리스커버 쿠팡 브랜드 - 코멧 홈 40수 순면 누빔 매트리스커버, 챠콜\n",
      "바숨 순면 누빔 침대 매트리스커버 바숨 순면 누빔 침대 매트리스커버, 화이트\n",
      "프랑떼 항균 방수 매트리스커버 프랑떼 항균 방수 매트리스커버, 화이트\n",
      "보몽드 순면스퀘어 솔리드 누빔매트커버 보몽드 순면스퀘어 솔리드 누빔매트커버, 다크블루\n",
      "네이쳐리빙 피아블 클래식 방수 매트리스커버 네이쳐리빙 피아블 클래식 방수 매트리스커버, 그레이\n",
      "쿠팡 브랜드 - 코멧 홈 순면 매트리스커버 쿠팡 브랜드 - 코멧 홈 순면 매트리스커버, 베이지\n",
      "타카타카 프리미엄 나노 화이바 누빔 매트리스 커버 타카타카 프리미엄 나노 화이바 누빔 매트리스 커버, 프렌치불독\n",
      "더자리 에코항균 마이크로 매트리스커버 더자리 에코항균 마이크로 매트리스커버, 밀키그레이\n",
      "보몽드 순면스퀘어 누빔매트커버 보몽드 순면스퀘어 누빔매트커버, 화이트\n",
      "피아블 클래식 방수 매트리스커버 피아블 클래식 방수 매트리스커버, 화이트\n",
      "쿠팡 브랜드 - 코멧 홈 순면 매트리스커버 쿠팡 브랜드 - 코멧 홈 순면 매트리스커버, 차콜그레이\n",
      "쉬즈홈 모던그리드 순면 여름이불 베개커버 패드세트 쉬즈홈 모던그리드 순면 여름이불 베개커버 패드세트, 핑크\n",
      "스코홈 빅리플 여름 차렵이불패드 3종 세트 스코홈 빅리플 여름 차렵이불패드 3종 세트, 마린그레이\n",
      "아망떼 시어서커 리플 홑이불 패드세트 아망떼 시어서커 리플 홑이불 패드세트, 웨이크\n",
      "마이센스 무더운 여름엔 시어서커 여름이불 패드 베개 이불세트 30종 마이센스 무더운 여름엔 시어서커 여름이불 패드 베개 이불세트 30종, 시어서커_파스텔그레이\n",
      "믹스앤매치 로라 프릴 시어서커 침구세트 믹스앤매치 로라 프릴 시어서커 침구세트, 그레이\n",
      "에피소드1 샤베트 프릴 시어서커 여름이불패드세트 에피소드1 샤베트 프릴 시어서커 여름이불패드세트, 그레이\n",
      "슈에뜨룸 선인장 리플 침구 세트 슈에뜨룸 선인장 리플 침구 세트, 베이지\n",
      "아망떼 시어서커 리플 홑이불 패드세트 아망떼 시어서커 리플 홑이불 패드세트, 허브티\n",
      "지베딩 아이스베어 시어서커 여름침구 풀세트 지베딩 아이스베어 시어서커 여름침구 풀세트, 민트그레이\n",
      "쁘리엘르 테스 시어서커 여름이불 패드세트 쁘리엘르 테스 시어서커 여름이불 패드세트, 그레이\n",
      "쉬즈홈 시어서커 홑이불 + 토퍼 + 베개커버 세트 쉬즈홈 시어서커 홑이불 + 토퍼 + 베개커버 세트, 나나 옐로우\n",
      "아망떼 시어서커 리플 퀼팅 이불패드세트 아망떼 시어서커 리플 퀼팅 이불패드세트, 리엔나\n",
      "바자르 트로피컬 인견 여름 이불세트 인견이불 + 베개커버 2p + 인견패드 바자르 트로피컬 인견 여름 이불세트 인견이불 + 베개커버 2p + 인견패드, 그린\n",
      "바자르 라이닝 혼방 인견 여름 이불베개세트 + 패드 Q 바자르 라이닝 혼방 인견 여름 이불베개세트 + 패드 Q, 쿨 네이비\n",
      "슈에뜨룸 비숑 피치스킨 침구세트 슈에뜨룸 비숑 피치스킨 침구세트, 그레이\n",
      "스코홈 시어서커 여름 이불 패드 3종 세트 스코홈 시어서커 여름 이불 패드 3종 세트, 차콜\n",
      "스코홈 어번시리즈 순면 차렵이불 누빔 매트커버세트 S 차콜 스코홈 어번시리즈 순면 차렵이불 누빔 매트커버세트 S 차콜\n",
      "쉬즈홈 루즈 시어서커 차렵이불 패드세트 쉬즈홈 루즈 시어서커 차렵이불 패드세트, 그레이\n",
      "예가로드 메리엘 시어서커 누비이불 패드세트 예가로드 메리엘 시어서커 누비이불 패드세트, 블루\n",
      "에피소드1 샤베트 프릴 시어서커 여름이불패드세트 에피소드1 샤베트 프릴 시어서커 여름이불패드세트, 화이트\n",
      "쉬즈홈 플루 시어서커 차렵이불 패드세트 쉬즈홈 플루 시어서커 차렵이불 패드세트, 그린\n",
      "메종 레이스 차렵 이불 세트 메종 레이스 차렵 이불 세트, 블루\n",
      "믹스앤매치 로라 프릴 시어서커 침구세트 믹스앤매치 로라 프릴 시어서커 침구세트, 그린\n",
      "슈에뜨룸 발그레 피치 리플 침구 세트 슈에뜨룸 발그레 피치 리플 침구 세트, 혼합 색상\n",
      "보몽드 메종 레이스 차렵이불 3종 세트 보몽드 메종 레이스 차렵이불 3종 세트, 민트\n",
      "슈에뜨룸 체크 피치스킨 침구세트 슈에뜨룸 체크 피치스킨 침구세트, 모카\n",
      "메리엘 시어서커 에어리플 이불세트 메리엘 시어서커 에어리플 이불세트, 그레이\n",
      "슈에뜨룸 빠삐용 시어서커 침구세트 슈에뜨룸 빠삐용 시어서커 침구세트, 네이비\n",
      "믹스앤매치 에이프릴 리플 누비이불 패드세트 믹스앤매치 에이프릴 리플 누비이불 패드세트, 화이트\n",
      "쉬즈홈 시어서커 홑이불 토퍼세트 쉬즈홈 시어서커 홑이불 토퍼세트, 루즈 그레이\n",
      "이코디 5단 엔틱 도어 행거 이코디 5단 엔틱 도어 행거, 브라운, 1개\n",
      "선우랜드 우드볼 도어훅 4구 선우랜드 우드볼 도어훅 4구, 실버, 1개\n",
      "리은상점 다용도 도어훅 문걸이 행거 모자걸이 머플러 목도리 걸이 리은상점 다용도 도어훅 문걸이 행거 모자걸이 머플러 목도리 걸이, 화이트, 5개\n",
      "퍼니스코 다용도걸이 모자걸이 가방걸이 도어훅 도어행거 문걸이 퍼니스코 다용도걸이 모자걸이 가방걸이 도어훅 도어행거 문걸이, 엔틱브라운, 1세트\n",
      "스텐 도어후크 옷걸이/도어훅 문옷걸이 행거 바지걸이 스텐 도어후크 옷걸이/도어훅 문옷걸이 행거 바지걸이, 혼합 색상, 1개\n",
      "디비플러스 키펙스 컬러 폭조절 오버 도어훅 디비플러스 키펙스 컬러 폭조절 오버 도어훅, 블랙, 1개\n",
      "리빙스토리 1+1 문에 거는 문 옷걸이 음자리 도어후크 방문 행거 리빙스토리 1+1 문에 거는 문 옷걸이 음자리 도어후크 방문 행거, 음자리도어후크-로즈골드, 2개\n",
      "나이스후크 도어행거 2개 세트 (문행거) 나이스후크 도어행거 2개 세트 (문행거), 블랙+화이트\n",
      "리빙파이 도어훅 옷걸이 행거 7구 리빙파이 도어훅 옷걸이 행거 7구, 블랙, 1개\n",
      "선우랜드 우드볼 도어훅 10구 선우랜드 우드볼 도어훅 10구, 실버, 1개\n",
      "웰렉스 도어행거 MH1060 신형 본사직발송 미니건조대 도어옷걸이 도어훅 웰렉스 도어행거 MH1060 신형 본사직발송 미니건조대 도어옷걸이 도어훅, 고동색, 1개\n",
      "엔비 엔틱 7구 도어훅 옷걸이 엔비 엔틱 7구 도어훅 옷걸이, 도어훅 1+1, 1+1\n",
      "코시나 무타공 문걸이 후크선반 1단 코시나 무타공 문걸이 후크선반 1단, 화이트, 1개\n",
      "코시나 무타공 올스텐 문걸이행거 코시나 무타공 올스텐 문걸이행거, 혼합 색상, 1개\n",
      "[아트박스 POOM/이케아] ENUDDEN 도어 행거 [아트박스 POOM/이케아] ENUDDEN 도어 행거, 본품, 수량\n",
      "비스비바 우드 폴 다용도걸이 3구 비스비바 우드 폴 다용도걸이 3구, 혼합 색상, 1개\n",
      "숲속애 웨이브 도어후크 5구 숲속애 웨이브 도어후크 5구, 블랙, 1개\n",
      "펀타스틱 다용도 문틀걸이 펀타스틱 다용도 문틀걸이, 화이트, 1개\n",
      "선우랜드 우드볼 도어훅 4구 선우랜드 우드볼 도어훅 4구, 화이트, 1개\n",
      "네이쳐리빙 어반모카 와이어 도어훅 옷걸이 6구 네이쳐리빙 어반모카 와이어 도어훅 옷걸이 6구, 단일 색상, 1개\n",
      "까사마루 블랑 접이식 문걸이 건조대 까사마루 블랑 접이식 문걸이 건조대, 1개\n",
      "선우랜드 우드볼 도어훅 6구 선우랜드 우드볼 도어훅 6구, 실버, 1개\n",
      "이케아 ENUDDEN 문걸이 행거 402.516.66 이케아 ENUDDEN 문걸이 행거 402.516.66, 화이트, 1개\n",
      "선우랜드 우드볼 도어훅 10구 선우랜드 우드볼 도어훅 10구, 화이트, 1개\n",
      "코멧 홈 우드볼 도어행거 코멧 홈 우드볼 도어행거, 6구, 혼합색상\n",
      "선우랜드 레인보우 2단 문걸이용 옷걸이 _중형 선우랜드 레인보우 2단 문걸이용 옷걸이 _중형, 화이트, 상세페이지참조\n",
      "코시나 무타공 문걸이 후크선반 2단 코시나 무타공 문걸이 후크선반 2단, 화이트, 1개\n",
      "스파이더락 도어후크 8구 스파이더락 도어후크 8구, 화이트, 1개\n",
      "선우랜드 우드볼 도어훅 6구 선우랜드 우드볼 도어훅 6구, 화이트, 1개\n",
      "코멧 홈 우드볼 도어행거 코멧 홈 우드볼 도어행거, 10구, 혼합색상\n",
      "보드래 헬로우 누빔 매트리스커버 보드래 헬로우 누빔 매트리스커버, 핑크\n",
      "보몽드 순면스퀘어 솔리드 누빔매트커버 보몽드 순면스퀘어 솔리드 누빔매트커버, 아이보리\n",
      "더자리 에코항균 마이크로 매트리스커버 더자리 에코항균 마이크로 매트리스커버, 밀키핑크\n",
      "타카타카 프리미엄 나노 화이바 누빔 매트리스 커버 타카타카 프리미엄 나노 화이바 누빔 매트리스 커버, 미스밍고\n",
      "네이쳐리빙 피아블 클래식 방수 매트리스커버 네이쳐리빙 피아블 클래식 방수 매트리스커버, 그레이\n",
      "프로텍트어베드 베이직 매트리스 방수커버 프로텍트어베드 베이직 매트리스 방수커버, 그레이\n"
     ]
    }
   ],
   "source": [
    "#파일 읽기 전체 코드\n",
    "import openpyxl\n",
    "\n",
    "excel_file = openpyxl.load_workbook('tmp.xlsx')\n",
    "excel_sheet = excel_file.active\n",
    "# excel_sheet = excel_file.get_sheet_by_name('IT뉴스')\n",
    "\n",
    "for row in excel_sheet.rows:\n",
    "    print(row[0].value, row[1].value)\n",
    "\n",
    "excel_file.close()"
   ]
  },
  {
   "cell_type": "code",
   "execution_count": null,
   "metadata": {},
   "outputs": [],
   "source": []
  }
 ],
 "metadata": {
  "kernelspec": {
   "display_name": "Python 3",
   "language": "python",
   "name": "python3"
  },
  "language_info": {
   "codemirror_mode": {
    "name": "ipython",
    "version": 3
   },
   "file_extension": ".py",
   "mimetype": "text/x-python",
   "name": "python",
   "nbconvert_exporter": "python",
   "pygments_lexer": "ipython3",
   "version": "3.8.5"
  }
 },
 "nbformat": 4,
 "nbformat_minor": 4
}
