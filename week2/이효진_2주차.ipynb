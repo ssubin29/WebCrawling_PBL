{
 "cells": [
  {
   "cell_type": "code",
   "execution_count": 1,
   "metadata": {},
   "outputs": [
    {
     "name": "stdout",
     "output_type": "stream",
     "text": [
      "<class 'int'> <class 'float'> <class 'str'>\n"
     ]
    }
   ],
   "source": [
    "d1 = 10\n",
    "d2 = 2.2\n",
    "d3 = \"fun-coding\"\n",
    "\n",
    "print (type(data1), type(data2), type(data3))"
   ]
  },
  {
   "cell_type": "code",
   "execution_count": 2,
   "metadata": {},
   "outputs": [
    {
     "name": "stdout",
     "output_type": "stream",
     "text": [
      "1\n",
      "2\n",
      "2\n"
     ]
    }
   ],
   "source": [
    "d1 = int(input())\n",
    "d2 = int(input())\n",
    "\n",
    "if d1 > d2:\n",
    "    print (d1)\n",
    "else:\n",
    "    print (d2)"
   ]
  },
  {
   "cell_type": "code",
   "execution_count": null,
   "metadata": {},
   "outputs": [],
   "source": [
    "data = int(input())\n",
    "\n",
    "if data % 2 == 0:\n",
    "    print (\"짝수\")\n",
    "else:\n",
    "    print (\"홀수\")\n"
   ]
  },
  {
   "cell_type": "code",
   "execution_count": 3,
   "metadata": {},
   "outputs": [
    {
     "name": "stdout",
     "output_type": "stream",
     "text": [
      "1\n",
      "2\n",
      "3\n",
      "1\n"
     ]
    }
   ],
   "source": [
    "d1 = int(input())\n",
    "d2 = int(input())\n",
    "d3 = int(input())\n",
    "\n",
    "if d1 <= d2 and d1 <= d3:\n",
    "    print (d1)\n",
    "elif d2 <= d1 and d2 <= d3:\n",
    "    print (d2)\n",
    "elif d3 <= d1 and d3 <= d2:\n",
    "    print (d3)    "
   ]
  },
  {
   "cell_type": "markdown",
   "metadata": {},
   "source": [
    "### score = int(input())\n",
    "\n",
    "if score >= 81 and score <= 100:\n",
    "    print (\"A\")\n",
    "elif score >= 61 and score <= 80:\n",
    "    print (\"B\")\n",
    "elif score >= 0 and score <= 60:\n",
    "    print (\"C\")"
   ]
  },
  {
   "cell_type": "code",
   "execution_count": 5,
   "metadata": {},
   "outputs": [
    {
     "name": "stdout",
     "output_type": "stream",
     "text": [
      "주민번호는?1231431\n",
      "출생년도: 12 년도\n"
     ]
    }
   ],
   "source": [
    "data = input(\"주민번호는?\")\n",
    "\n",
    "print (\"출생년도:\", data[0:2], \"년도\")"
   ]
  },
  {
   "cell_type": "code",
   "execution_count": 6,
   "metadata": {},
   "outputs": [
    {
     "name": "stdout",
     "output_type": "stream",
     "text": [
      "55\n"
     ]
    }
   ],
   "source": [
    "sum = 0\n",
    "for index in range(1, 11):\n",
    "    sum = sum + index\n",
    "print (sum)"
   ]
  },
  {
   "cell_type": "code",
   "execution_count": 7,
   "metadata": {},
   "outputs": [
    {
     "name": "stdout",
     "output_type": "stream",
     "text": [
      "2\n",
      "2 X 1 = 1231431\n",
      "2 X 2 = 12314311231431\n",
      "2 X 3 = 123143112314311231431\n",
      "2 X 4 = 1231431123143112314311231431\n",
      "2 X 5 = 12314311231431123143112314311231431\n",
      "2 X 6 = 123143112314311231431123143112314311231431\n",
      "2 X 7 = 1231431123143112314311231431123143112314311231431\n",
      "2 X 8 = 12314311231431123143112314311231431123143112314311231431\n",
      "2 X 9 = 123143112314311231431123143112314311231431123143112314311231431\n"
     ]
    }
   ],
   "source": [
    "num = int(input())\n",
    "if num >= 2 and num <= 9:\n",
    "    for digit in range(1, 10):\n",
    "        print (num, \"X\", digit, \"=\", data * digit)"
   ]
  },
  {
   "cell_type": "code",
   "execution_count": null,
   "metadata": {},
   "outputs": [],
   "source": [
    "for data in range(1, 31):\n",
    "    if data % 3 == 0:\n",
    "        print (data)"
   ]
  },
  {
   "cell_type": "code",
   "execution_count": null,
   "metadata": {},
   "outputs": [
    {
     "name": "stdout",
     "output_type": "stream",
     "text": [
      "2345\n",
      "비밀번호가 틀렸습니다\n"
     ]
    }
   ],
   "source": [
    "pw = input()\n",
    "\n",
    "while pw!='1234':\n",
    "    print ('비밀번호가 틀렸습니다')\n",
    "    pw = input()\n",
    "\n",
    "print (\"비밀번호가 맞습니다\")"
   ]
  },
  {
   "cell_type": "code",
   "execution_count": null,
   "metadata": {},
   "outputs": [],
   "source": [
    "for num in range(2, 10):\n",
    "    for num2 in range(1, 10):\n",
    "        print (num, \"X\", num2, \"=\", num * num2)"
   ]
  },
  {
   "cell_type": "code",
   "execution_count": null,
   "metadata": {},
   "outputs": [],
   "source": [
    "data = ('a', 'b', 'c', 'd', 'e')\n",
    "print (data[0], data[-1])"
   ]
  },
  {
   "cell_type": "code",
   "execution_count": null,
   "metadata": {},
   "outputs": [],
   "source": [
    "tupledata = ('fun-coding1', 'fun-coding2', 'fun-coding3', 'fun-coding4', 'fun-coding5')\n",
    "data = list(tupledata)\n",
    "del data[0]\n",
    "tuple(data)"
   ]
  },
  {
   "cell_type": "code",
   "execution_count": null,
   "metadata": {},
   "outputs": [],
   "source": [
    "def plus(d1, d2, d3):\n",
    "    print (d1 + d2 + d3)\n",
    "plus(1, 2, 3)"
   ]
  },
  {
   "cell_type": "code",
   "execution_count": null,
   "metadata": {},
   "outputs": [],
   "source": []
  }
 ],
 "metadata": {
  "kernelspec": {
   "display_name": "Python 3",
   "language": "python",
   "name": "python3"
  },
  "language_info": {
   "codemirror_mode": {
    "name": "ipython",
    "version": 3
   },
   "file_extension": ".py",
   "mimetype": "text/x-python",
   "name": "python",
   "nbconvert_exporter": "python",
   "pygments_lexer": "ipython3",
   "version": "3.8.5"
  }
 },
 "nbformat": 4,
 "nbformat_minor": 4
}
