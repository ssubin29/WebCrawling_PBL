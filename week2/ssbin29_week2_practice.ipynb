{
 "cells": [
  {
   "cell_type": "code",
   "execution_count": 5,
   "metadata": {},
   "outputs": [
    {
     "name": "stdout",
     "output_type": "stream",
     "text": [
      "너도나도 시도하는 ‘저탄고지 다이어트’의 무서운 실체 : 네이버 포스트\n"
     ]
    }
   ],
   "source": [
    "#1.라이브러리 임포트\n",
    "import requests #웹페이지 가져오기 라이브러리\n",
    "from bs4 import BeautifulSoup #웹페이지 분석 라이브러리\n",
    "\n",
    "#2.웹페이지 가져오기\n",
    "res = requests.get('https://post.naver.com/viewer/postView.nhn?volumeNo=31162554&memberNo=15305315')\n",
    "\n",
    "#3.웹페이지 파싱하기(파싱:문자열의 의미 분석)\n",
    "soup=BeautifulSoup(res.content,'html.parser')\n",
    "#soup:내용이 구조화되어 들어감\n",
    "\n",
    "#4.필요한 데이터 추출하기\n",
    "mydata=soup.find('title')#원하는 부분 지정\n",
    "\n",
    "#5.추출한 데이터 활용하기\n",
    "print(mydata.get_text())"
   ]
  },
  {
   "cell_type": "markdown",
   "metadata": {},
   "source": [
    "### 개별적 실습"
   ]
  },
  {
   "cell_type": "code",
   "execution_count": 19,
   "metadata": {},
   "outputs": [
    {
     "name": "stdout",
     "output_type": "stream",
     "text": [
      "하아 ... 같은 유형 같은질문 ;; ㅠㅠㅠㅠ\n",
      "질문 받아주십쇼\n",
      "node.js 틀렸다고 하네요 힙정렬 사용했고 테스트해보면 잘 뜨는데 ㅠ\n",
      "데이터 추가 요청합니다\n",
      "문제 해석이 안됩니다. 수학 잘하시는 분 도와주세요!\n",
      "\n",
      "                21611번 마법사 상어와 블리자드\n",
      "                \n",
      "\n",
      "                21610번 마법사 상어와 비바라기\n",
      "                \n",
      "\n",
      "                21609번 상어 중학교\n",
      "                \n",
      "\n",
      "                21608번 상어 초등학교\n",
      "                \n",
      "\n",
      "                21607번 Polynomial and Easy Queries\n",
      "                \n",
      "\n",
      "                21606번 아침 산책\n",
      "                \n",
      "\n",
      "                21605번 아름다운 수열\n",
      "                \n",
      "\n",
      "                21644번 The Firm Knapsack Problem\n",
      "                \n",
      "\n",
      "                21643번 New Level\n",
      "                \n",
      "\n",
      "                21642번 Straight\n",
      "                \n",
      "\n",
      "                21641번 Points and Segments\n",
      "                \n",
      "\n",
      "                21640번 Hard Work\n",
      "                \n",
      "\n",
      "                21639번 Cooking\n",
      "                \n",
      "\n",
      "                21638번 SMS from MCHS\n",
      "                \n",
      "\n",
      "                2557번 Hello World\n",
      "                \n",
      "\n",
      "                1000번 A+B\n",
      "                \n",
      "\n",
      "                10171번 고양이\n",
      "                \n",
      "\n",
      "                10718번 We love kriii\n",
      "                \n",
      "\n",
      "                1008번 A/B\n",
      "                \n",
      "\n",
      "                1330번 두 수 비교하기\n",
      "                \n",
      "\n",
      "                2884번 알람 시계\n",
      "                \n"
     ]
    }
   ],
   "source": [
    "res = requests.get('https://www.acmicpc.net/problem/added')\n",
    "soup=BeautifulSoup(res.content,'html.parser')\n",
    "mydata=soup.find_all('a',class_='article-subject')\n",
    "#find_all() 내가 원하는 데이터를 리스트 형태로 가져오는 것이 가능하다.\n",
    "for item in mydata:\n",
    "    print(item.string)"
   ]
  },
  {
   "cell_type": "code",
   "execution_count": null,
   "metadata": {},
   "outputs": [],
   "source": []
  },
  {
   "cell_type": "code",
   "execution_count": null,
   "metadata": {},
   "outputs": [],
   "source": []
  }
 ],
 "metadata": {
  "kernelspec": {
   "display_name": "Python 3",
   "language": "python",
   "name": "python3"
  },
  "language_info": {
   "codemirror_mode": {
    "name": "ipython",
    "version": 3
   },
   "file_extension": ".py",
   "mimetype": "text/x-python",
   "name": "python",
   "nbconvert_exporter": "python",
   "pygments_lexer": "ipython3",
   "version": "3.8.5"
  }
 },
 "nbformat": 4,
 "nbformat_minor": 4
}
